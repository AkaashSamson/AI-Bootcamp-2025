{
 "cells": [
  {
   "cell_type": "code",
   "execution_count": null,
   "metadata": {},
   "outputs": [],
   "source": [
    "from langchain_community.document_loaders import PyPDFLoader"
   ]
  },
  {
   "cell_type": "code",
   "execution_count": 3,
   "metadata": {},
   "outputs": [],
   "source": [
    "loader_pdf = PyPDFLoader(\"networking_devices.pdf\")"
   ]
  },
  {
   "cell_type": "code",
   "execution_count": 4,
   "metadata": {},
   "outputs": [],
   "source": [
    "pages = loader_pdf.load()"
   ]
  },
  {
   "cell_type": "code",
   "execution_count": 5,
   "metadata": {},
   "outputs": [
    {
     "data": {
      "text/plain": [
       "28"
      ]
     },
     "execution_count": 5,
     "metadata": {},
     "output_type": "execute_result"
    }
   ],
   "source": [
    "len(pages)"
   ]
  },
  {
   "cell_type": "code",
   "execution_count": 8,
   "metadata": {},
   "outputs": [],
   "source": [
    "import copy \n",
    "pages_cut = copy.deepcopy(pages)\n",
    "for i in range(len(pages)):\n",
    "    pages_cut[i].page_content = ' '.join(pages[i].page_content.split())"
   ]
  },
  {
   "cell_type": "code",
   "execution_count": 14,
   "metadata": {},
   "outputs": [
    {
     "data": {
      "text/plain": [
       "'................................................ Networking Devices 63 The ports on a hub to which computer systems are attached are called Medium Dependent Interface-Crossed (MDI-X). The crossed designation is derived from the fact that two of the wires within the connection are crossed so that the send signal wire on one device becomes the receive signal of the other. Because the ports are crossed internally, a standard or straight-through cable can be used to connect devices. Another type of port, called a Medium Dependent Interface (MDI) port, is often included on a hub or switch to facilitate the connection of two switch- es or hubs. Because the hubs or switches are designed to see each other as simply an extension of the network, there is no need for the signal to be crossed. If a hub or switch does not have an MDI port, hubs or switches can be connected by using a crossover cable between two MDI-X ports. The crossover cable serves to uncross the internal crossing. Y ou can see diagrams of the cable pinouts for both a straight-through and crossover cable in Figures 3.2 and 3.3, respectively. 1 2 3 4 5 6 7 8 1 2 3 4 5 6 7 8 Figure 3.2 The pinouts for a straight-through cable. In a crossover cable, wires 1 and 3 and wires 2 and 6 are crossed. 04 2548 ch03 5/16/05 12:28 PM Page 63'"
      ]
     },
     "execution_count": 14,
     "metadata": {},
     "output_type": "execute_result"
    }
   ],
   "source": [
    "pages_cut[4].page_content"
   ]
  },
  {
   "cell_type": "code",
   "execution_count": null,
   "metadata": {},
   "outputs": [],
   "source": [
    "for page in pages_cut:\n",
    "    page.page_content = page.page_content[:-38]"
   ]
  },
  {
   "cell_type": "code",
   "execution_count": 25,
   "metadata": {},
   "outputs": [
    {
     "data": {
      "text/plain": [
       "'................................................ Networking Devices 61 to the Ring Out (RO) port on another MSAU. The last MSAU in the ring is then connected to the first to complete the ring. Because T oken Ring net- works are few and far between nowadays, it is far more likely that you will find yourself working with Ethernet hubs and switches. Multistation access unit is sometimes written as MSAU however, it is commonly referred to as an MAU. Both are acceptable acronyms. Even though MSAU and Token Ring networks are not common, you can expect a few questions on them on the exam. Switches Like hubs, switches are the connectivity points of an Ethernet network. Devices connect to switches via twisted-pair cabling, one cable for each device. The difference between hubs and switches is in how the devices deal with the data that they receive. Whereas a hub forwards the data it receives to all of the ports on the device, a switch forwards it only to the port that connects to the destination device. It does this by learning the MAC address of the devices attached to it, and then by matching the destination MAC address in the data it receives. Figure 3.1 shows how a switch works. Data sent byone node Data is forwarded only to thedestination node Switch Figure 3.1 How a switch works. By forwarding data only to the connection that should receive it, the switch can improve network performance in two ways. First, by creating a direct path between two devices and controlling their communication, it can great- ly reduce the number of collisions on the network. As you might recall, col- lisions occur on Ethernet networks when two devices attempt to transmit at exactly the same time. In addition, the lack of collisions enables switches to'"
      ]
     },
     "execution_count": 25,
     "metadata": {},
     "output_type": "execute_result"
    }
   ],
   "source": [
    "pages_cut[2].page_content"
   ]
  },
  {
   "cell_type": "code",
   "execution_count": 26,
   "metadata": {},
   "outputs": [],
   "source": [
    "for page in pages_cut:\n",
    "    page.page_content = ' '.join([word if '....' not in word else ' ' for word in page.page_content.split()])"
   ]
  },
  {
   "cell_type": "code",
   "execution_count": 38,
   "metadata": {},
   "outputs": [
    {
     "data": {
      "text/plain": [
       "'Networking Devices Objectives 1.6 Identify the purposes, features, and functions of the following network components: ✓ Hubs ✓ Switches ✓ Bridges ✓ Routers ✓ Gateways ✓ CSU/DSU (Channel Service Unit/Data Service Unit) ✓ NICs (Network Interface Card) ✓ ISDN (Integrated Services Digital Network) adapters ✓ WAPs (Wireless Access Point) ✓ Modems ✓ Transceivers (media converters) ✓ Firewalls 2.1 Identify a MAC (Media Access Control) address and its parts What you need to know ✓ Describe how hubs and switches work ✓ Explain how hubs and switches can be connected to create larger networks ✓ Describe how bridges, routers, and gateways work ✓ Describe how routing protocols are used for dynamic routing ✓ Explain the purpose of other networking components such as Channel Service Unit/Digital Service Unit (CSU/DSU) and gateways ✓ Describe the purpose and function of network cards ✓ Describe how to identify a MAC address ✓ Understand the function of a transceiver ✓ Describe the purpose of a firewall   3'"
      ]
     },
     "execution_count": 38,
     "metadata": {},
     "output_type": "execute_result"
    }
   ],
   "source": [
    "pages_cut[0].page_content"
   ]
  },
  {
   "cell_type": "code",
   "execution_count": 40,
   "metadata": {},
   "outputs": [
    {
     "data": {
      "text/plain": [
       "'  360 Introduction All but the most basic of networks require devices to provide connectivity and functionality. Understanding how these networking devices operate and identifying the functions they perform are essential skills for any network administrator and requirements for a Network+ candidate. This chapter introduces commonly used networking devices, and, although it is true that you are not likely to encounter all of the devices mentioned in this chapter on the exam, you can be assured of working with at least some of them. Hubs At the bottom of the networking food chain, so to speak, are hubs. Hubs are used in networks that use twisted-pair cabling to connect devices. Hubs can also be joined together to create larger networks. Hubs are simple devices that direct data packets to all devices connected to the hub, regardless of whether the data package is destined for the device. This makes them ineffi- cient devices and can create a performance bottleneck on busy networks. In its most basic form, a hub does nothing except provide a pathway for the electrical signals to travel along. Such a device is called a passive hub. Far more common nowadays is an active hub, which, as well as providing a path for the data signals, regenerates the signal before it forwards it to all of the connected devices. A hub does not perform any processing on the data that it forwards, nor does it perform any error checking. Hubs come in a variety of shapes and sizes. Small hubs with five or eight con- nection ports are commonly referred to as workgroup hubs . Others can accommodate larger numbers of devices (normally up to 32). These are referred to as high-density devices. Because hubs don’t perform any processing, they do little except enable communication between connected devices. For today’s high-demand network applications, something with a little more intelligence is required. That’s where switches come in. MSAU In a T oken Ring network, a multistation access unit (MSAU) is used in place of the hub that is used on an Ethernet network. The MSAU performs the token circulation inside the device, giving the network a physical star appear- ance. Each MSAU has a Ring In (RI) port on the device, which is connected'"
      ]
     },
     "execution_count": 40,
     "metadata": {},
     "output_type": "execute_result"
    }
   ],
   "source": [
    "# del pages_cut[0]\n",
    "pages_cut[0].page_content"
   ]
  },
  {
   "cell_type": "code",
   "execution_count": 31,
   "metadata": {},
   "outputs": [],
   "source": [
    "from langchain_text_splitters.character import CharacterTextSplitter"
   ]
  },
  {
   "cell_type": "code",
   "execution_count": 32,
   "metadata": {},
   "outputs": [],
   "source": [
    "char_splitter = CharacterTextSplitter(separator = \".\", \n",
    "                                      chunk_size = 500, \n",
    "                                      chunk_overlap = 50)"
   ]
  },
  {
   "cell_type": "code",
   "execution_count": 41,
   "metadata": {},
   "outputs": [],
   "source": [
    "pages_char_split = char_splitter.split_documents(pages_cut)"
   ]
  },
  {
   "cell_type": "code",
   "execution_count": 42,
   "metadata": {},
   "outputs": [
    {
     "data": {
      "text/plain": [
       "'360 Introduction All but the most basic of networks require devices to provide connectivity and functionality. Understanding how these networking devices operate and identifying the functions they perform are essential skills for any network administrator and requirements for a Network+ candidate'"
      ]
     },
     "execution_count": 42,
     "metadata": {},
     "output_type": "execute_result"
    }
   ],
   "source": [
    "pages_char_split[0].page_content"
   ]
  },
  {
   "cell_type": "code",
   "execution_count": 43,
   "metadata": {},
   "outputs": [
    {
     "data": {
      "text/plain": [
       "117"
      ]
     },
     "execution_count": 43,
     "metadata": {},
     "output_type": "execute_result"
    }
   ],
   "source": [
    "len(pages_char_split)"
   ]
  },
  {
   "cell_type": "code",
   "execution_count": 44,
   "metadata": {},
   "outputs": [],
   "source": [
    "for i in range(len(pages_char_split)):\n",
    "    pages_char_split[i].page_content += \".\""
   ]
  },
  {
   "cell_type": "code",
   "execution_count": 45,
   "metadata": {},
   "outputs": [
    {
     "data": {
      "text/plain": [
       "'360 Introduction All but the most basic of networks require devices to provide connectivity and functionality. Understanding how these networking devices operate and identifying the functions they perform are essential skills for any network administrator and requirements for a Network+ candidate.'"
      ]
     },
     "execution_count": 45,
     "metadata": {},
     "output_type": "execute_result"
    }
   ],
   "source": [
    "pages_char_split[0].page_content"
   ]
  },
  {
   "cell_type": "code",
   "execution_count": 46,
   "metadata": {},
   "outputs": [],
   "source": [
    "from langchain_huggingface import HuggingFaceEndpointEmbeddings\n",
    "\n",
    "import dotenv\n",
    "\n",
    "dotenv.load_dotenv()\n",
    "import os \n",
    "\n",
    "model = \"sentence-transformers/all-mpnet-base-v2\"\n",
    "api_key = os.getenv(\"HUGGINGFACE_API_KEY\")\n",
    "embedding = HuggingFaceEndpointEmbeddings(\n",
    "    model=model,\n",
    "    huggingfacehub_api_token=api_key,\n",
    ")"
   ]
  },
  {
   "cell_type": "code",
   "execution_count": 47,
   "metadata": {},
   "outputs": [],
   "source": [
    "from langchain_chroma import Chroma\n",
    "\n",
    "vectorstore = Chroma.from_documents(documents = pages_char_split, \n",
    "                                    embedding = embedding, \n",
    "                                    persist_directory = \"./networking_devices\")"
   ]
  },
  {
   "cell_type": "code",
   "execution_count": 48,
   "metadata": {},
   "outputs": [
    {
     "data": {
      "text/plain": [
       "{'ids': ['89762042-27cb-47d7-9101-9792c482e2a4',\n",
       "  'e705702c-6bc7-41f7-8726-63a1b58bff7e',\n",
       "  '531af8a0-2b50-403f-a4f9-68f2a2a45197',\n",
       "  'dfc95758-1e4c-4794-b202-f723fc2a3c13',\n",
       "  'f0ff3899-c6b2-4d7d-97b6-8ff07fd24af1',\n",
       "  '517c9409-b7d6-405c-b98e-f3a0afc69f0d',\n",
       "  '814e5892-c222-4869-9c34-8dfeb9c8424e',\n",
       "  'ae0daf6a-0339-44a7-9b28-c84b612e8d6c',\n",
       "  '55f2ca6a-c44a-4ddd-9b92-92316a07dfeb',\n",
       "  '0516fca3-300a-4b68-b297-f2b2d210001f',\n",
       "  'b8ac39e9-0e67-4727-9716-aeb05b6692b2',\n",
       "  'bb0e821f-af45-4f57-8883-66fb6a463d58',\n",
       "  'f16ea24b-6522-4c3b-bfc2-ba46f5735133',\n",
       "  'e419103c-9c8d-4efb-bdc1-586a120103aa',\n",
       "  '072694a9-e293-4cb5-8495-d61066d5cb70',\n",
       "  '9730590e-7a34-4496-941d-b6c9688ac921',\n",
       "  'f3aae397-0ef7-4128-adf2-c9145201fb8b',\n",
       "  '6c49e69d-a6ad-4097-99b0-43f8cb15a12e',\n",
       "  '1a63e6f1-57dd-4898-81ce-12ac1e143afa',\n",
       "  'b92047cb-1ab8-4bfb-8a10-575f05b9a38b',\n",
       "  '6ef1be26-8a03-4282-a513-69a9aed41538',\n",
       "  '259b5a28-873e-47dc-8b56-2c6c98e7e2b6',\n",
       "  'f8aa1311-b122-4703-a327-55ac05404683',\n",
       "  '1d1fa70a-eff4-4fb1-89a7-37b9cd20b57b',\n",
       "  'e5804337-b810-481e-8f02-1924099a25d0',\n",
       "  'd4df678a-3417-42d3-ba95-8def3244961a',\n",
       "  '2e1e08e4-20d7-4ec7-808f-beb437614114',\n",
       "  '51556b2b-632e-4d2f-b1a9-69377a0e95ca',\n",
       "  '7162310d-d5e8-4618-8c03-0e4858693439',\n",
       "  '5f9573b6-eb68-4db8-9576-63f16f09859b',\n",
       "  '74bf2333-6dde-4f82-8c06-4b081eba9a1d',\n",
       "  '26fb8be9-65f4-4780-8c19-e340b03a4407',\n",
       "  'f7387e78-6e12-4f9e-b33d-6e6ad9bee8c6',\n",
       "  '5506de7d-c18a-497a-82cb-9895300d0596',\n",
       "  'c87911ca-91b9-485e-8430-0fe698c0ca91',\n",
       "  'c5e464ea-3788-452b-9e7b-4ac56b58c9b1',\n",
       "  '14c2ab5d-ffad-43e4-b00a-d6b4d628ba43',\n",
       "  '44a3f7c7-b71a-4fe8-9958-270de27e3ad1',\n",
       "  '16978117-cb4a-4a4e-aac0-b5c62e47d149',\n",
       "  'f8c25237-298a-47fc-9b82-73efd42699e0',\n",
       "  'fbefd6e6-79fa-401c-b91e-6d640772504c',\n",
       "  '81f63c30-e78f-48b0-831d-6b450f008b28',\n",
       "  'e7a6957f-16df-4d53-9396-715d01653b85',\n",
       "  '106f22e6-a6e7-4dce-883f-24469309e9ca',\n",
       "  'a97d939d-7615-4769-8db7-daf460dceeeb',\n",
       "  'fc65100b-0569-4542-9e32-16476f427f52',\n",
       "  '10d49a07-c59a-4aad-823a-4e4f544d9299',\n",
       "  '0b2cd3e4-e67a-4066-8c0a-072c5d3505e6',\n",
       "  'd095c97a-9f62-4432-a499-173de84113bf',\n",
       "  'cbea7c38-696a-4b3c-a3c0-16949a2f56c2',\n",
       "  '22efa835-e32a-4ebc-8f09-5614d15c1d62',\n",
       "  '5bcdb90e-90d5-423c-891b-e06a7a5bdcc5',\n",
       "  '264418eb-9f9c-4810-9f64-7768d5695e47',\n",
       "  'a8de350a-b9f9-4688-a103-cf40cea8af6d',\n",
       "  'c7733d4f-ddb4-4c04-acfb-0271b1c64453',\n",
       "  '81175f66-7f40-4f0d-9268-e6de8f46aec5',\n",
       "  '8c3eedbe-dc78-486d-835d-df1117ed53d3',\n",
       "  'c9c0c115-c9f4-41aa-8e38-ff3e8089c66c',\n",
       "  '10e9717e-7c05-483b-9c55-eb17689db0cd',\n",
       "  'd8df0624-d1b6-4a23-bc06-e00300c533a2',\n",
       "  '29ff05b4-211d-4c59-ba9f-4296712a8f1c',\n",
       "  '913f5333-e1b9-47ff-bcbf-84f6798e68e2',\n",
       "  'b7dc862b-192d-4521-86a7-b7f21aa04cfa',\n",
       "  'ac2036dd-4da3-4eaa-81e8-3275e7299bf7',\n",
       "  'db93572b-7eed-4556-bfcd-8931ad552991',\n",
       "  '6ef426b8-029c-46d0-8d68-30a38311c525',\n",
       "  '0402c259-a00a-4c7e-a305-d68a0ceb9273',\n",
       "  'd6ce1285-ed75-4626-b1f6-9fa09e7faeba',\n",
       "  '05e37391-5d4f-46de-bd22-266834585a64',\n",
       "  '2ea4c306-2eed-4358-a0ad-d90fceef7277',\n",
       "  '3f06e63e-5c92-47be-a973-6ed6c779b93f',\n",
       "  '49ae1655-dd37-4f52-828d-d38294b37cd3',\n",
       "  '0774cd9a-c468-4830-9a6d-b442ebbf3c0a',\n",
       "  'a648934f-c9b8-4dae-ae85-00d8c8600ae5',\n",
       "  '525adfd9-29a1-4894-a6fc-10aab33a92b0',\n",
       "  '0b474508-8dd0-48d5-be21-1cdc35fe61a9',\n",
       "  '55b48b45-756a-454d-9194-03056ef73727',\n",
       "  'a97b7194-e473-4a8d-9d8d-2f655d481c79',\n",
       "  '899b1059-ca5a-4c11-8e26-f31e5d4bf209',\n",
       "  '5cfb02e5-30a9-4b45-94c0-3cb51ba98858',\n",
       "  '1a5d982f-3265-4912-85b0-0a8cc890aed9',\n",
       "  '7406c294-a3dc-4023-b5d1-8b528b9dc1b2',\n",
       "  '3a3147a4-b597-4e3c-9630-42ac513091d2',\n",
       "  '3a899302-0011-4d55-96de-ddd501afe2b9',\n",
       "  '5a1a6170-2632-448a-9793-699fbfe4d71f',\n",
       "  'a4e07e6c-84a9-45c6-9a2b-59d9cd172b1f',\n",
       "  '2ea4d5d3-9426-4643-96d2-88d86e877d9f',\n",
       "  'de3d6c6a-d08a-4dc7-b04f-e031c6c02572',\n",
       "  '270ef07b-5522-43c7-9b77-40e2a60e0071',\n",
       "  '6f9ed379-65cf-4f73-a292-70c9a9e9b28c',\n",
       "  '4f239cd6-0d46-4e85-b95d-96277567e0c7',\n",
       "  '2b9af5e7-3e4e-4c72-9706-814c4b355da9',\n",
       "  'd254f010-d79d-4a52-bc46-e61ccaa04b92',\n",
       "  '47928da3-264d-4870-a36f-9ebbbbc5e91d',\n",
       "  '0d729bcf-6479-449f-a6da-8fa467f41545',\n",
       "  '1163e10f-175a-4999-81eb-a4f6d502295c',\n",
       "  '31e37be0-c0ec-4834-bedc-919db1ce3bfc',\n",
       "  '0dc2215b-6cf9-4168-842b-c5664ed19cca',\n",
       "  '765ccd04-3414-49e3-a4af-33f2dd2bb763',\n",
       "  '5cd45e51-31d8-48fc-a1cd-a8bbbd1aa6f9',\n",
       "  'b5662ae2-45b9-4ebe-8397-042bfa86b811',\n",
       "  '79ba4119-c379-4613-bbbd-35a8e19ebc54',\n",
       "  'f979cb0e-df97-478f-b5d8-61164ff20804',\n",
       "  '6a7d5832-762a-4445-9aab-1bd579104540',\n",
       "  'ac90bfbd-3675-43f5-ba16-fc6f6c90803a',\n",
       "  '8d85e29e-8376-42ad-b129-03b0dcff016c',\n",
       "  '30937a55-b8d9-42f0-80d6-ca552f6a94b1',\n",
       "  'ca0ff2b3-0fe8-44f6-b24f-4e9b1f3775b4',\n",
       "  '3cf4191f-f934-4c4e-8461-56dc0b1dab8f',\n",
       "  '9dd54ac0-083c-464a-ae99-97d7568920fe',\n",
       "  '26e01f76-cf71-4d82-80f9-4276d4e17484',\n",
       "  'c912c034-c6a5-46a6-ae39-d599da960f9e',\n",
       "  '76e997e5-7dc1-40fb-ace8-8db23b962bbd',\n",
       "  '4fd45fdd-6bec-4b9f-9010-7dd1bcea51f0',\n",
       "  'cc5db26e-02e0-43b5-afde-32dc9cbfa517',\n",
       "  '194d75b8-a6a7-4617-a1ab-2d3dce4c8461',\n",
       "  '8e150391-ee0a-42ce-8157-9c395c9aa08a'],\n",
       " 'embeddings': None,\n",
       " 'documents': ['360 Introduction All but the most basic of networks require devices to provide connectivity and functionality. Understanding how these networking devices operate and identifying the functions they perform are essential skills for any network administrator and requirements for a Network+ candidate.',\n",
       "  'This chapter introduces commonly used networking devices, and, although it is true that you are not likely to encounter all of the devices mentioned in this chapter on the exam, you can be assured of working with at least some of them. Hubs At the bottom of the networking food chain, so to speak, are hubs. Hubs are used in networks that use twisted-pair cabling to connect devices. Hubs can also be joined together to create larger networks.',\n",
       "  'Hubs are simple devices that direct data packets to all devices connected to the hub, regardless of whether the data package is destined for the device. This makes them ineffi- cient devices and can create a performance bottleneck on busy networks. In its most basic form, a hub does nothing except provide a pathway for the electrical signals to travel along. Such a device is called a passive hub.',\n",
       "  'Such a device is called a passive hub. Far more common nowadays is an active hub, which, as well as providing a path for the data signals, regenerates the signal before it forwards it to all of the connected devices. A hub does not perform any processing on the data that it forwards, nor does it perform any error checking. Hubs come in a variety of shapes and sizes. Small hubs with five or eight con- nection ports are commonly referred to as workgroup hubs.',\n",
       "  'Others can accommodate larger numbers of devices (normally up to 32). These are referred to as high-density devices. Because hubs don’t perform any processing, they do little except enable communication between connected devices. For today’s high-demand network applications, something with a little more intelligence is required. That’s where switches come in. MSAU In a T oken Ring network, a multistation access unit (MSAU) is used in place of the hub that is used on an Ethernet network.',\n",
       "  'The MSAU performs the token circulation inside the device, giving the network a physical star appear- ance. Each MSAU has a Ring In (RI) port on the device, which is connected.',\n",
       "  'Networking Devices 61 to the Ring Out (RO) port on another MSAU. The last MSAU in the ring is then connected to the first to complete the ring. Because T oken Ring net- works are few and far between nowadays, it is far more likely that you will find yourself working with Ethernet hubs and switches. Multistation access unit is sometimes written as MSAU however, it is commonly referred to as an MAU. Both are acceptable acronyms.',\n",
       "  'Both are acceptable acronyms. Even though MSAU and Token Ring networks are not common, you can expect a few questions on them on the exam. Switches Like hubs, switches are the connectivity points of an Ethernet network. Devices connect to switches via twisted-pair cabling, one cable for each device. The difference between hubs and switches is in how the devices deal with the data that they receive.',\n",
       "  'Whereas a hub forwards the data it receives to all of the ports on the device, a switch forwards it only to the port that connects to the destination device. It does this by learning the MAC address of the devices attached to it, and then by matching the destination MAC address in the data it receives. Figure 3.1 shows how a switch works. Data sent byone node Data is forwarded only to thedestination node Switch Figure 3.1 How a switch works.',\n",
       "  '1 How a switch works. By forwarding data only to the connection that should receive it, the switch can improve network performance in two ways. First, by creating a direct path between two devices and controlling their communication, it can great- ly reduce the number of collisions on the network. As you might recall, col- lisions occur on Ethernet networks when two devices attempt to transmit at exactly the same time. In addition, the lack of collisions enables switches to.',\n",
       "  '362 communicate with devices in full-duplex mode. In a full-duplex configura- tion, devices can send and receive data from the switch at the same time. Contrast this with half-duplex communication, in which communication can occur in only one direction at a time. Full-duplex transmission speeds are double that of a standard, half-duplex, connection. So, a 10Mbps connection becomes 20Mbps, and a 100Mbps connection becomes 200Mbps.',\n",
       "  'The net result of these measures is that switches can offer significant per- formance improvements over hub-based networks, particularly when net- work use is high. Irrespective of whether a connection is at full or half duplex, the method of switching dictates how the switch deals with the data it receives. The fol- lowing is a brief explanation of each method: ➤ Cut-through—In a cut-through switching environment, the packet begins to be forwarded as soon as it is received.',\n",
       "  'This method is very fast, but creates the possibility of errors being propagated through the net- work, as there is no error checking. ➤ Store-and-forward—Unlike cut-through, in a store-and-forward switching environment, the entire packet is received and error checked before being forwarded. The upside of this method is that errors are not propagated through the network.',\n",
       "  'The downside is that the error check- ing process takes a relatively long time, and store-and-forward switching is considerably slower as a result. ➤ FragmentFree—T o take advantage of the error checking of store-and- forward switching, but still offer performance levels nearing that of cut- through switching, FragmentFree switching can be used.',\n",
       "  'In a FragmentFree-switching environment, enough of the packet is read so that the switch can determine whether the packet has been involved in a collision. As soon as the collision status has been determined, the packet is forwarded. Hub and Switch Cabling In addition to acting as a connection point for network devices, hubs and switches can also be connected to create larger networks.',\n",
       "  'This connection can be achieved through standard ports with a special cable or by using spe- cial ports with a standard cable.',\n",
       "  'Networking Devices 63 The ports on a hub to which computer systems are attached are called Medium Dependent Interface-Crossed (MDI-X). The crossed designation is derived from the fact that two of the wires within the connection are crossed so that the send signal wire on one device becomes the receive signal of the other. Because the ports are crossed internally, a standard or straight-through cable can be used to connect devices.',\n",
       "  'Another type of port, called a Medium Dependent Interface (MDI) port, is often included on a hub or switch to facilitate the connection of two switch- es or hubs. Because the hubs or switches are designed to see each other as simply an extension of the network, there is no need for the signal to be crossed. If a hub or switch does not have an MDI port, hubs or switches can be connected by using a crossover cable between two MDI-X ports.',\n",
       "  'The crossover cable serves to uncross the internal crossing. Y ou can see diagrams of the cable pinouts for both a straight-through and crossover cable in Figures 3.2 and 3.3, respectively. 1 2 3 4 5 6 7 8 1 2 3 4 5 6 7 8 Figure 3.2 The pinouts for a straight-through cable. In a crossover cable, wires 1 and 3 and wires 2 and 6 are crossed.',\n",
       "  '364 Figure 3.3 The pinouts for a crossover cable. Bridges Bridges are used to divide larger networks into smaller sections. They do this by sitting between two physical network segments and managing the flow of data between the two.',\n",
       "  'By looking at the MAC address of the devices con- nected to each segment, bridges can elect to forward the data (if they believe that the destination address is on another interface), or block it from cross- ing (if they can verify that it is on the interface from which it came). Figure 3.4 shows how a bridge can be used to segregate a network. AB 1 2 3 4 5 6 7 8 1 2 3 4 5 6 7 8 Bridges can also be used to connect two physical LANs into a larger logical LAN.',\n",
       "  'When bridges were introduced, the MAC addresses of the devices on the con- nected networks had to be entered manually, a time-consuming process that had plenty of opportunity for error. T oday, almost all bridges can build a list of the MAC addresses on an interface by watching the traffic on the network. Such devices are called learning bridges because of this functionality.',\n",
       "  'Networking Devices 65 Figure 3.4 How a bridge is used to segregate networks. Bridge Placement and Bridging Loops There are two issues that you must consider when using bridges. The first is the bridge placement, and the other is the elimination of bridging loops: ➤ Placement—Bridges should be positioned in the network using the 80/20 rule. This rule dictates that 80% of the data should be local and that the other 20% should be destined for devices on the other side of the bridge.',\n",
       "  '➤ Bridging loops—Bridging loops can occur when more than one bridge is implemented on the network. In this scenario, the bridges can confuse each other by leading one another to believe that a device is located on a certain segment when it is not. T o combat the bridging loop problem, the IEEE 802.1d Spanning T ree protocol enables bridge interfaces to be assigned a value that is then used to control the bridge-learning process.',\n",
       "  'Types of Bridges Three types of bridges are used in networks: ➤ Transparent bridge—Derives its name from the fact that the devices on the network are unaware of its existence. A transparent bridge does nothing except block or forward data based on the MAC address. ➤ Source route bridge—Used in T oken Ring networks. The source route bridge derives its name from the fact that the entire path that the packet is to take through the network is embedded within the packet.',\n",
       "  '➤ Translational bridge—Used to convert one networking data format to another; for example, from T oken Ring to Ethernet and vice versa. Data not destined for a device on the other network is prevented from passing over the bridge Bridge.',\n",
       "  '366 T oday, bridges are slowly but surely falling out of favor. Ethernet switches offer similar functionality; they can provide logical divisions, or segments, in the network. In fact, switches are sometimes referred to as multiport bridges because of the way they operate. Routers In a common configuration, routers are used to create larger networks by joining two network segments. Such as a SOHO router used to connect a user to the Internet.',\n",
       "  'A router can be a dedicated hardware device or a com- puter system with more than one network interface and the appropriate routing software. All modern network operating systems include the func- tionality to act as a router. Routers will normally create, add, or divide on the Network Layer as they are normal- ly IP-based devices. A router derives its name from the fact that it can route data it receives from one network onto another.',\n",
       "  'When a router receives a packet of data, it reads the header of the packet to determine the destination address. Once it has determined the address, it looks in its routing table to determine whether it knows how to reach the destination and, if it does, it forwards the packet to the next hop on the route. The next hop might be the final destination, or it might be another router. Figure 3.5 shows, in basic terms, how a router works.',\n",
       "  '5 shows, in basic terms, how a router works. As you can see from this example, routing tables play a very important role in the routing process. They are the means by which the router makes its decisions. For this reason, a routing table needs to be two things. It must be up-to-date, and it must be complete. There are two ways that the router can get the information for the routing table—through static routing or dynam- ic routing.',\n",
       "  'Static Routing In environments that use static routing , routes and route information are entered into the routing tables manually. Not only can this be a time-con- suming task, but also errors are more common. Additionally, when there is a.',\n",
       "  'Networking Devices 67 change in the layout, or topology, of the network, statically configured routers must be manually updated with the changes. Again, this is a time- consuming and potentially error-laden task. For these reasons, static routing is suited to only the smallest environments with perhaps just one or two routers. A far more practical solution, particularly in larger environments, is to use dynamic routing.',\n",
       "  '1 1 Workstation Workstation Server Router 2 2 3 Router Router Data is sent to the router 2 The router determines the destination address and forwards it to the next step in the journey 3 The data reaches its destination Figure 3.5 How a router works. Dynamic Routing In a dynamic routing environment, routers use special routing protocols to communicate.',\n",
       "  'The purpose of these protocols is simple; they enable routers to pass on information about themselves to other routers so that other routers can build routing tables. There are two types of routing protocols used—the older distance vector protocols and the newer link state protocols.',\n",
       "  '368 Distance Vector Routing The two most commonly used distance vector routing protocols are both called Routing Information Protocol (RIP). One version is used on networks running TCP/IP . The other, sometimes referred to as IPX RIP , is designed for use on networks running the IPX/SPX protocol. RIP works on the basis of hop counts. A hop is defined as one step on the jour- ney to the data’s destination. Each router that the data has to cross to reach its destination constitutes a hop.',\n",
       "  'The maximum number of hops that RIP can accommodate is 15. That is to say that in a network that uses RIP , all routers must be within 15 hops of each other to communicate. Any hop count that is in excess of 15 is considered unreachable. Distance vector routing protocols operate by having each router send updates about all the other routers it knows about to the routers directly connected to it. These updates are used by the routers to compile their rout- ing tables.',\n",
       "  'The updates are sent out automatically every 30 or 60 seconds. The actual interval depends on the routing protocol being used. Apart from the periodic updates, routers can also be configured to send a triggered update if a change in the network topology is detected. The process by which routers learn of a change in the network topology is known as convergence. Although distance vector protocols are capable of maintaining routing tables, they have three problems.',\n",
       "  'The first is that the periodic update system can make the update process very slow. The second problem is that the periodic updates can create large amounts of network traffic—much of the time unnecessarily as the topology of the network should rarely change. The last, and perhaps more significant, problem is that because the routers only know about the next hop in the journey, incorrect information can be propagated between routers, creating routing loops.',\n",
       "  'T wo strategies are used to combat this last problem. One, split horizon, works by preventing the router from advertising a route back to the other router from which it was learned. The other, poison reverse (also called split horizon with poison reverse), dictates that the route is advertised back on the inter- face from which it was learned, but that it has a metric of 16. Recall that a metric of 16 is considered an unreachable destination.',\n",
       "  'Link State Routing Link state routing works quite differently from distance vector-based rout- ing. Rather than each router telling each other connected router about the routes it is aware of, routers in a link state environment send out special packets, called link state advertisements (LSA), which contain information only about that router. These LSAs are forwarded to all the routers on the.',\n",
       "  'Networking Devices 69 network, which enables them to build a map of the entire network. The advertisements are sent when the router is first brought onto the network and when a change in the topology is detected. Of the two (distance vector and link state), distance vector routing is better suited to small networks and link state routing to larger ones.',\n",
       "  'Link state pro- tocols do not suffer from the constant updates and limited hop count, and they are also quicker to correct themselves (to converge) when the network topology changes. On TCP/IP networks, the most commonly used link state routing protocol is the Open Shortest Path First (OSPF). On IPX networks, the NetWare Link State Protocol (NLSP) is used. T able 3.1 summarizes the distance vec- tor and link state protocols used with each network protocol.',\n",
       "  'It is necessary to know which distance vector and link state routing protocols are associated with which network protocols. Table 3.1 Routing Protocols Network Protocol Distance Vector Link State TCP/IP RIP OSPF IPX/SPX RIP* NLSP IPX RIP Sometimes, to distinguish between the versions of RIP for IP and IPX, the version for IPX is referred to as IPX RIP . Gateways Any device that translates one data format to another is called a gateway.',\n",
       "  'Some examples of gateways include a router that translates data from one network protocol to another, a bridge that converts between two networking systems, and a software application that converts between two dissimilar for- mats. The key point about a gateway is that only the data format is translat- ed, not the data itself. In many cases, the gateway functionality is incorpo- rated into another device.',\n",
       "  '370 Gateways and Default Gateways Don’t confuse a gateway with the term default gateway, which is discussed in Chapter 6, “WAN Technologies, Remote Access, and Security Protocols.” The term default gateway refers to a router to which all network transmissions not destined for the local network are sent. CSU/DSU A Channel Service Unit/Digital Service Unit (CSU/DSU), sometimes called Data Service Unit, is a device that converts the digital signal format used on LANs into one used on WANs.',\n",
       "  'Such translation is necessary because the networking technologies used on WANs are different from those used on LANs. The CSU/DSU sits between the LAN and the access point provided by the telecommunications company. Many router manufacturers are now incorpo- rating CSU/DSU functionality into their products. Network Cards Network cards, also called Network Interface Cards, are devices that enable computers to connect to the network.',\n",
       "  'When specifying or installing a NIC, you must consider the following issues: ➤ System bus compatibility—If the network interface you are installing is an internal device, bus compatibility must be verified. The most com- mon bus system in use is the Peripheral Component Interconnect (PCI) bus, but some older systems might still use Industry Standard Architecture (ISA) expansion cards. ➤ System resources—Network cards, like other devices, need IRQ and memory I/O addresses.',\n",
       "  'If the network card does not operate correctly after installation, there might be a device conflict. ➤ Media compatibility—T oday, the assumption is that networks use twist- ed-pair cabling, so if you need a card for coaxial or fiber-optic connec- tions, you must specify this. Wireless network cards are also available. Even more than the assumption you are using twisted-pair cabling is that the networking system being used is Ethernet.',\n",
       "  'If you require a card for another networking system such as T oken Ring, this must be specified when you order.',\n",
       "  'Networking Devices 71 T o install or configure a network interface, you will need drivers of the device, and might need to configure it, although many devices are now plug and play. Most network cards are now software configured. Many of these software configuration utilities also include testing capabilities.',\n",
       "  'The drivers and software configuration utilities supplied with the cards are often not the latest available, so it is best practice to log on to the Internet and download the latest drivers and associated software. ISDN Adapters Integrated Services Digital Network (ISDN) is a remote access and WAN tech- nology that can be used in place of a Plain Old T elephone Service (POTS) dial-up link if it is available.',\n",
       "  'The availability of ISDN depends on whether your local telecommunications service provider offers the service, the quali- ty of the line to your premises, and your proximity to the provider’s location. ISDN offers greater speeds than a modem and can also pick up and drop the line considerably faster. If ISDN is available and you do elect to use it, a special device called an ISDN terminal adapter is needed to connect to the line.',\n",
       "  'ISDN terminal adapters can be add-in expansion cards, external devices that connect to the serial port of the system, or specialized interfaces built in to routers or other networking equipment. The ISDN terminal adapter is necessary because, although it uses digital signals, the signals are formatted differently from those used on a LAN. In addition, ISDN can create multiple communication channels on a single line.',\n",
       "  'T oday, ISDN is not widely deployed and has been replaced by faster and often cheaper technologies. Wireless Access Points Wireless access points (APs) are a transmitter and receiver (transceiver) device used to create a wireless LAN (WLAN). APs are typically a separate network device with a built-in antenna, transmitter, and adapter. APs use the wireless infrastructure network mode to provide a connection point between WLANs and a wired Ethernet LAN.',\n",
       "  'APs also typically have several ports allowing a way to expand the network to support additional clients. When working on a Token Ring network, you have to ensure that all network cards are set to transmit at the same speeds. NICs on an Ethernet network can operate at different speeds.',\n",
       "  '372 Depending on the size of the network, one or more APs might be required. Additional APs are used to allow access to more wireless clients and to expand the range of the wireless network. Each AP is limited by a transmis- sions range—the distance a client can be from a AP and still get a useable sig- nal. The actual distance depends on the wireless standard being used and the obstructions and environmental conditions between the client and the AP.',\n",
       "  'A WAP can operate as a bridge connecting a standard wired network to wireless devices or as a router passing data transmissions from one access point to another. Saying that an AP is used to extend a wired LAN to wireless clients doesn’t give you the complete picture. A wireless AP today can provide different services in addition to just an access point. T oday, the APs might provide many ports that can be used to easily increase the size of the network.',\n",
       "  'Systems can be added and removed from the network with no affect on other systems on the network. Also, many APs provide firewall capabilities and DHCP service. When they are hooked up, they will provide client systems with a private IP address and then prevent Internet traffic from accessing client systems. So in effect, the AP is a switch, a DHCP Server, router, and a firewall. APs come in all different shapes and sizes. Many are cheaper and designed strictly for home or small office use.',\n",
       "  'Such APs have low powered antennas and limited expansion ports. Higher end APs used for commercial purposes have very high powered antennas enabling them to extend the range that the wireless signal can travel. APs are used to create a wireless LAN and to extend a wired network. APs are used in the infrastructure wireless topology.',\n",
       "  'Modems A modem, short for modulator/demodulator, is a device that converts the dig- ital signals generated by a computer into analog signals that can travel over conventional phone lines. The modem at the receiving end converts the sig- nal back into a format the computer can understand. Modems can be used as a means to connect to an ISP or as a mechanism for dialing up to a LAN.',\n",
       "  'Networking Devices 73 Modems can be internal add-in expansion cards, external devices that con- nect to the serial or USB port of a system, PCMCIA cards designed for use in laptops, or proprietary devices designed for use on other devices such as portables and handhelds. The configuration of a modem depends on whether it is an internal or exter- nal device. For internal devices, the modem must be configured with an interrupt request (IRQ) and a memory I/O address.',\n",
       "  'It is common practice, when installing an internal modem, to disable the built-in serial interfaces and assign the modem the resources of one of those (typically COM2). T able 3.2 shows the resources associated with serial (COM) port assignments. Table 3.',\n",
       "  'Table 3.2 Common Serial (COM) Port Resource Assignments Port ID IRQ I/O Address Associated Serial I/F Number COM1 4 03F8 1 COM2 3 02F8 2 COM3 4 03E8 1 COM4 3 02E8 2 For external modems, you need not concern yourself directly with these port assignments, as the modem connects to the serial port and uses the resources assigned to it. This is a much more straightforward approach and one favored by those who work with modems on a regular basis.',\n",
       "  'For PCMCIA and USB modems, the plug-and-play nature of these devices makes them simple to configure, and no manual resource assignment is required. Once the modem is installed and recognized by the system, drivers must be con- figured to enable use of the device. T wo factors directly affect the speed of the modem connection—the speed of the modem itself and the speed of the Universal Asynchronous Receiver/T ransmitter (UART) chip in the computer that is connected to the modem.',\n",
       "  'The UART chip controls the serial communication of a computer, and although modern systems have UART chips that can accommodate far greater speeds than the modem is capable of, older systems should be checked to make sure that the UART chip is of sufficient speed to support the modem speed. The UART chip installed in the system can normally be determined by looking at the documentation that comes with the system. T able 3.3 shows the maximum speed of the commonly used UART chip types.',\n",
       "  '374 Table 3.3 UART Chip Speeds UART Chip Speed (Kbps) 8250 9600 16450 9600 16550 115,200 16650 430,800 16750 921,600 16950 921,600 Keep in mind that Internal modems have their own UARTs, but External modems use the UART that works with the Com Port. If you have installed an internal modem and are experiencing problems with other devices such as a mouse, there might be a resource conflict between the mouse and the modem. Also, legacy ISA NICs often use IRQ3 and might conflict with the modems.',\n",
       "  'Transceivers (Media Converters) The term transceiver does describe a separate network device, but it can also be technology built and embedded in devices such as network cards and modems. In a network environment, a transceiver gets its name from being both a transmitter and a receiver of signals—thus the name transceivers. T echnically, on a LAN, the transceiver is responsible for placing signals onto the network media and also detecting incoming signals traveling through the same wire.',\n",
       "  'Given the description of the function of a transceiver, it makes sense that that technology would be found with network cards. Although transceivers are found in network cards, they can be external devices as well. As far as networking is concerned, transceivers can ship as a module or chip type. Chip transceivers are small and are inserted into a sys- tem board or wired directly on a circuit board.',\n",
       "  'Module transceivers are external to the network and are installed and function similarly to other com- puter peripherals, or they can function as standalone devices. There are many types of transceivers—RF transceivers, fiber optic trans- ceivers, Ethernet transceivers, wireless (WAP) transceivers, and more. Though each of these media types are different, the function of the.',\n",
       "  'Networking Devices 75 transceiver remains the same. Each type of the transceiver used has different characteristics, such as the number of ports available to connect to the net- work and whether full-duplex communication is supported. Listed with transceivers in the CompTIA objectives are media converters. Media converters are a technology that allows administrators to interconnect different media types—for example, twisted pair, fiber, and Thin or thick coax—within an existing network.',\n",
       "  'Using a media converter, it is possible to connect newer 100Mbps, Gigabit Ethernet, or ATM equipment to existing networks such as 10BASE-T or 100BASE-T . They can also be used in pairs to insert a fiber segment into copper networks to increase cabling distances and enhance immunity to electromagnetic interference (EMI). Firewalls A firewall is a networking device, either hardware or software based, that controls access to your organization’s network.',\n",
       "  'This controlled access is designed to protect data and resources from an outside threat. T o do this, firewalls are typically placed at entry/exit points of a network—for example, placing a firewall between an internal network and the Internet. Once there, it can control access in and out of that point.',\n",
       "  'Although firewalls typically protect internal networks from public networks, they are also used to control access between specific network segments with- in a network—for example, placing a firewall between the Accounts and the Sales departments. As mentioned, firewalls can be implemented through software or through a dedicated hardware device. Organizations implement software firewalls through network operating systems (NOS) such as Linux/UNIX, Windows servers, and Mac OS servers.',\n",
       "  'The firewall is configured on the server to allow or permit certain types of network traffic. In small offices and for reg- ular home use, a firewall is commonly installed on the local system and con- figured to control traffic. Many third-party firewalls are available. Hardware firewalls are used in networks of all sizes today.',\n",
       "  'Hardware firewalls are often dedicated network devices that can be implemented with very little configuration and protect all systems behind the firewall from outside sources. Hardware firewalls are readily available and often combined with other devices today. For example, many broadband routers and wireless access points have firewall functionality built in. In such case, the router or WAP might have a number of ports available to plug systems in to.',\n",
       "  '376 T able 3.4 provides a summary of the networking devices identified in this chapter. Table 3.4 Network Devices Summary Device Function/Purpose Key Points Hub Connects devices on a A hub does not perform any tasks twisted-pair network. besides signal regeneration. Switch Connects devices on a A switch forwards data to its twisted-pair network. destination by using the MAC address embedded in each packet.',\n",
       "  'Bridge Divides networks to reduce A bridge allows or prevents data from overall network traffic. passing through it by reading the MAC address. Router Connects networks A router uses the software-configured together. network address to make forwarding decisions. Gateway Translates from one data Gateways can be hardware or software format to another. based. Any device that translates data formats is called agateway.',\n",
       "  'CSU/DSU Translates digital signals CSU/DSU functionality is sometimes used on a LAN to those incorporated into other devices, such used on a WAN. as a router with a WAN connection. Network card Enables systems to Network interfaces can be add-in connect to the network. expansion cards, PCMCIA cards, or built-in interfaces. ISDN terminal Connects devices to ISDN ISDN is a digital WAN technology adapter lines. often used in place of slower modem links.',\n",
       "  'often used in place of slower modem links. ISDN terminal adapters are required to reformat the data format for transmission on ISDN links. WAP Provides network A WAP is often used to connect to a capabilities to wireless wired network, thereby acting as a link network devices. between wired and wireless portions of the network. Firewalls are discussed in greater detail in Chapter 8, “Configuring Network Security.” (continued).',\n",
       "  'Networking Devices 77 Modem Provides serial Modems modulate the digital signal communication into analog at the sending end and capabilities across phone perform the reverse function at the lines. receiving end. Transceiver Coverts one media type to A device that functions as a another, such as UTP to transmitter and a receiver of signals fiber. such as analog or digital. Firewall Provides controlled data Firewalls can be hardware or access between networks.',\n",
       "  'software based and are an essential part of a networks security strategy. MAC Addresses A MAC address is a unique 6-byte address that is burned into each network interface or more specifically, directly into the PROM chip on the NIC. The number must be unique, as the MAC address is the basis by which almost all network communication takes place. No matter which networking protocol is being used, the MAC address is still the means by which the network inter- face is identified on the network.',\n",
       "  'Notice that I say network interface. That’s very important, as a system that has more than one network card in it will have more than one MAC address. MAC addresses are expressed in six hexadecimal values. In some instances, the six values are separated by colons (:); in others, hyphens (-) are used; and in still others, a space is simply inserted between the values. In any case, because the six values are hexadecimal, they can only be numbers 0–9 and the letters A–F.',\n",
       "  'So, a valid MAC address might be 00-D0-56-F2-B5-12 or 00-26-DD- 14-C4-EE. There is a way of finding out whether a MAC address exists through the IEEE, which is responsible for managing MAC address assign- ment. The IEEE has a system in place that lets you identify the manufactur- er of the network interface by looking at the MAC address.',\n",
       "  'For example, in the MAC address 00-80-C8-E3-4C-BD, the 00-80-C8 portion identifies the manufacturer and the E3-4C-BD portion is assigned by the man- ufacturer to make the address unique. The IEEE is the body that assigns manufacturers their IDs, called Organizationally Unique Identifiers, and the manufacturer then assigns the second half, called the Universal LAN MAC address. From the IEEE’s perspective, leaving the actual assignment of Table 3.',\n",
       "  '4 Network Devices Summary (continued) Device Function/Purpose Key Points.',\n",
       "  '378 addresses to the manufacturers significantly reduces the administrative over- head for the IEEE. As discussed, MAC addresses are expressed in hexadecimal format. For that reason, they can only use the numbers 0–9 and the letters A–F. There are only six bytes, so a MAC address should be six groups of two characters. Any other number of char- acters or any answer that contains a letter other than those described can be imme- diately discounted as an answer.',\n",
       "  'The method by which you can discover the MAC address of the network interfaces in your equipment depends on which operating system is being used. T able 3.5 shows you how to obtain the MAC address on some of the more common platforms. Be prepared to identify the commands used to view a MAC address as shown in Table 3.5. You might be asked to identify these commands on the Network+ exam. Table 3.5 Commands to Obtain MAC Addresses Platform Method Windows 95/98/Me Run the winipcfg utility.',\n",
       "  'Windows NT/2000 Run ipconfig /all from a command prompt. Linux/Some UNIX Run the ifconfig -a command. Novell NetWare Run the config command. Cisco Router Run the sh int <interface name> command. As you work with network interfaces more, you might start to become famil- iar with which ID is associated with which manufacturer. Although this is a skill that might astound your friends and impress your colleagues, it won’t help you with the Network+ exam.',\n",
       "  'Just knowing what does, and doesn’t, rep- resent a valid MAC address will be sufficient on the exam. Review and Test Yourself The following sections provide you with the opportunity to review what you learned in this chapter and to test yourself.',\n",
       "  'Networking Devices 79 The Facts ➤ Both hubs and switches are used in Ethernet networks. T oken Ring net- works, which are few and far between, use special devices called multi- station access units (MSAUs) to create the network. ➤ The function of a hub is to take data from one of the connected devices and forward it to all the other ports on the hub. ➤ Most hubs are considered active because they regenerate a signal before forwarding it to all the ports on the device.',\n",
       "  'In order to do this, the hub needs a power supply. ➤ Rather than forwarding data to all the connected ports, a switch forwards data only to the port on which the destination system is connected. ➤ Switches make forwarding decisions based on the Media Access Control (MAC) addresses of the devices connected to them to determine the cor- rect port. ➤ In cut-through switching, the switch begins to forward the packet as soon as it is received.',\n",
       "  '➤ In a store-and-forward configuration, the switch waits to receive the entire packet before beginning to forward it. ➤ FragmentFree switching works by reading only the part of the packet that enables it to identify fragments of a transmission. ➤ Hubs and switches have two types of ports: Medium Dependent Interface (MDI) and Medium Dependent Interface-Crossed (MDI-X). ➤ A straight-through cable is used to connect systems to the switch or hub using the MDI-X ports.',\n",
       "  '➤ In a crossover cable, wires 1 and 3 and wires 2 and 6 are crossed. ➤ Both hubs and switches come in managed and unmanaged versions. A managed device has an interface through which it can be configured to perform certain special functions. ➤ Bridges are used to divide up networks and thus reduce the amount of traffic on each network.',\n",
       "  '➤ Unlike bridges and switches, which use the hardware-configured MAC address to determine the destination of the data, routers use the soft- ware-configured network address to make decisions.',\n",
       "  '380 ➤ With distance-vector routing protocols, each router communicates all the routes it knows about to all other routers to which it is directly attached. ➤ RIP is a distance routing protocol for both TCP and IPX. ➤ Link state protocols communicate with all other devices on the network to build complete maps of the network. They generate less network traf- fic than distance vector routing protocols but require more powerful network hardware.',\n",
       "  '➤ Open Shortest Path First (OSPF) and NetWare Link State Protocol (NLSP) are the most commonly used link state routing protocols used on IP and IPX networks respectively. ➤ The term gateway is applied to any device, system, or software applica- tion that can perform the function of translating data from one format to another. ➤ A CSU/DSU acts as a translator between the LAN and the WAN data formats. ➤ Wireless network devices gain access to the network via Wireless Access Points.',\n",
       "  '➤ Wireless Access Points provide additional functionality such as DHCP , router, firewall, and hub/switch. ➤ Modems translate digital signals from a computer into analog signals that can travel across conventional phone lines. ➤ T ransceivers are devices on the network that both transmit and receive data signals. ➤ Media converters are used to convert between one media type and another.',\n",
       "  'Networking Devices 81 ➤ Hub ➤ Bridge ➤ Gateway ➤ Network Interface Cards ➤ ISDN adapters ➤ Switch ➤ Router ➤ CSU/DSU ➤ System area network cards ➤ Wireless Access Points (WAPs) ➤ Modems ➤ MAC addresses ➤ Distance vector ➤ Link state ➤ Dynamic routing ➤ Static routing ➤ NLSP ➤ OSPF ➤ RIP ➤ Convergence ➤ Bridging loops ➤ T ransceivers ➤ Media converters Key Terms.',\n",
       "  '382 Exam Prep Questions 1. Users are complaining that the performance of the network is not sat- isfactory. It takes a long time to pull files from the server, and, under heavy loads, workstations can become disconnected from the server. The network is heavily used, and a new video conferencing application is about to be installed. The network is a 100BaseT system created with Ethernet hubs.',\n",
       "  'Which of the following devices are you most likely to install to alleviate the performance problems? ❑ A. Switch ❑ B. Router ❑ C. Bridge ❑ D. Gateway 2. Which of the following devices forwards data packets to all connected ports? ❑ A. Router ❑ B. Switch ❑ C. Bridge ❑ D. Hub 3. Of the following routing methods, which is likely to take the most amount of administration time in the long term? ❑ A. Static ❑ B. Link state ❑ C. Distance vector ❑ D. Dynamic 4.',\n",
       "  'Link state ❑ C. Distance vector ❑ D. Dynamic 4. Y our manager asks you to look into some upgrades for your network. The current network is a 10Base2 system, and you have been experi- encing numerous hard-to-track-down cable problems. As a result, you have decided to upgrade to a 10BaseT system. On the networking ven- dor’s price list are both active and passive hubs.',\n",
       "  'The passive hubs are considerably cheaper than the active ones, and you are tempted to opt for them so that you come in under budget. A colleague advises you against the purchase of passive hubs. What is the primary difference between an active and a passive hub? ❑ A. Passive hubs do not offer any management capabilities. ❑ B. Passive hubs cannot be used in full-duplex mode. ❑ C. Passive hubs do not regenerate the data signal. ❑ D.',\n",
       "  '❑ D. Passive hubs forward data to all ports on the hub, not just the one for which they are intended.',\n",
       "  'Networking Devices 83 5. Which of the following statements best describes a gateway? ❑ A. It is a device that enables data to be routed from one network to another. ❑ B. It is a term used to refer to any device that resides at the entrance of a network. ❑ C. It is a device, system, or application that translates data from one for- mat to another. ❑ D. It is a network device that can forward or block data based on the MAC address embedded within the packet. 6.',\n",
       "  '6. Y ou have a thin coaxial-based Ethernet network and are experiencing performance problems on the network. By using a network perform- ance-monitoring tool, you determine that there are a large number of collisions on the network. In an effort to reduce the collisions, you decide to install a network bridge. What kind of bridge are you most likely to implement? ❑ A. Collision bridge ❑ B. T ransparent bridge ❑ C. Visible bridge ❑ D. T ranslational bridge 7.',\n",
       "  'Visible bridge ❑ D. T ranslational bridge 7. Which of the following represents a valid MAC address? ❑ A. 00-D0-56-F2-B5-12 ❑ B. 00-63-T6-4H-7U-78 ❑ C. 00-62-DE-6F-D2 ❑ D. 000-622-DE5-75E-EA6 8. Which of the following devices passes data based on the MAC address? ❑ A. Hub ❑ B. Switch ❑ C. MSAU ❑ D. Router 9. What is the speed of the 16550 UART chip? ❑ A. 921,600 ❑ B. 430,800 ❑ C. 115,200 ❑ D. 9,600 10. Which of the following devices would you find only on a T oken Ring network? ❑ A. Hub ❑ B.',\n",
       "  'Hub ❑ B. Switch ❑ C. MSAU ❑ D. Router.',\n",
       "  '384 Answers to Exam Prep Questions 1. The correct answer is A. Replacing Ethernet hubs with switches can yield significant performance improvements. Of the devices listed, they are also the only one that can be substituted for hubs. Answer B, router, is incorrect as a router is used to separate networks, not as a connectivity point for workstations. A bridge could be used to segre- gate the network and so improve performance, but a switch is a more obvious choice in this example.',\n",
       "  'Therefore, answer C is incorrect. Answer D, gateway, is incorrect. A gateway is a device, system, or application that translates data from one format to another. 2. The correct answer is D. Hubs are inefficient devices that send data packets to all connected devices. Many of today’s networks are upgrad- ing to switches that pass data packets to the specific destination device. This method significantly increases network performance. 3. The correct answer is A.',\n",
       "  '3. The correct answer is A. Static routing will take more time to adminis- ter in the long term, as any changes to the network routing table must be entered manually. Answers B and C are incorrect. Distance vector and link state are both dynamic routing methods. Answer D is also incorrect. Dynamic routing might take more time to configure initial- ly; but in the long term, it will require less administration time. It can adapt to changes in the network layout automatically. 4.',\n",
       "  '4. The correct answer is C. An active hub regenerates the data signal before forwarding, it a passive hub does not. Answer A is incorrect. The management capabilities of a hub have nothing to do with the active/passive aspect of the device. Answer B is incorrect. Hubs are not capable of operating in full-duplex mode. Only network switches are capable of performing this function in this context. Answer D describes the function of a switch, not a hub. 5. The correct answer is C.',\n",
       "  '5. The correct answer is C. A gateway can be a device, system, or applica- tion that translates data from one format to another. Answers B and D are more likely to describe a router than a gateway. Answer D describes a bridge. A bridge is a device that is used to segregate a network. It makes forwarding or blocking decisions based on the MAC address embedded within the packet. 6. The correct answer is B.',\n",
       "  '6. The correct answer is B. A transparent bridge can be used to segment a network, which reduces the amount of collisions and the overall net- work traffic. It is called transparent because the other devices on the network do not need to be aware of the device and will, in fact, operate as if it wasn’t there. Answer D is incorrect as a translational bridge is.',\n",
       "  'Networking Devices 85 used in environments where it is necessary to translate from one data format to another. Such a conversion is not necessary in this scenario. Answers A and C are invalid. There is no such thing as a collision bridge or a visible bridge. 7. The correct answer is A. A MAC address is a 6-byte address that is expressed in hexadecimal format. Answer B contains the letters T and U, which are not valid. Hexadecimal format uses only numbers and the letters A through F.',\n",
       "  'For this reason, answer B is incorrect. Answer C is only five bytes, so it is incorrect. Answer D is incorrect because a byte in hexadecimal is expressed in two characters and the answer uses three. 8. The correct answer is B. When determining the destination for a data packet, the switch learns the MAC address of all devices attached to it and then matches the destination MAC address in the data it receives. None of the other devices pass data based solely on the MAC address. 9.',\n",
       "  '9. The correct answer is C. 115,200 is the speed of the 16550 UART chip. Answer A is incorrect as 921,600 is the speed of the 16750 and 16950 UART chips. Answer B is incorrect as 430,800 is the speed of the 16650 UART chip and 9600 is the speed of the 8250 UART chip. 10. The correct answer is C. A Multistation Access Unit (MSAU) is used as the connectivity point on a T oken Ring network. Answers A and B are incorrect. Switches and hubs are associated with Ethernet net- works.',\n",
       "  'Answer D is incorrect. Routers can be found on both T oken Ring and Ethernet networks. Need to Know More? Olexa, Ron. Implementing 802.11, 802.16, and 802.20 Wireless Networks: Planning, Troubleshooting, and Operations. Communications Engineering. Newnes Publishing, 2004. Computer networking products and information—www. alliedtelesyn.com. Computer networking device information—www.3com.com. “Computer Networking T utorials and Advice”—compnetworking. about.com.'],\n",
       " 'uris': None,\n",
       " 'data': None,\n",
       " 'metadatas': [{'page': 1, 'source': 'networking_devices.pdf'},\n",
       "  {'page': 1, 'source': 'networking_devices.pdf'},\n",
       "  {'page': 1, 'source': 'networking_devices.pdf'},\n",
       "  {'page': 1, 'source': 'networking_devices.pdf'},\n",
       "  {'page': 1, 'source': 'networking_devices.pdf'},\n",
       "  {'page': 1, 'source': 'networking_devices.pdf'},\n",
       "  {'page': 2, 'source': 'networking_devices.pdf'},\n",
       "  {'page': 2, 'source': 'networking_devices.pdf'},\n",
       "  {'page': 2, 'source': 'networking_devices.pdf'},\n",
       "  {'page': 2, 'source': 'networking_devices.pdf'},\n",
       "  {'page': 3, 'source': 'networking_devices.pdf'},\n",
       "  {'page': 3, 'source': 'networking_devices.pdf'},\n",
       "  {'page': 3, 'source': 'networking_devices.pdf'},\n",
       "  {'page': 3, 'source': 'networking_devices.pdf'},\n",
       "  {'page': 3, 'source': 'networking_devices.pdf'},\n",
       "  {'page': 3, 'source': 'networking_devices.pdf'},\n",
       "  {'page': 4, 'source': 'networking_devices.pdf'},\n",
       "  {'page': 4, 'source': 'networking_devices.pdf'},\n",
       "  {'page': 4, 'source': 'networking_devices.pdf'},\n",
       "  {'page': 5, 'source': 'networking_devices.pdf'},\n",
       "  {'page': 5, 'source': 'networking_devices.pdf'},\n",
       "  {'page': 5, 'source': 'networking_devices.pdf'},\n",
       "  {'page': 6, 'source': 'networking_devices.pdf'},\n",
       "  {'page': 6, 'source': 'networking_devices.pdf'},\n",
       "  {'page': 6, 'source': 'networking_devices.pdf'},\n",
       "  {'page': 6, 'source': 'networking_devices.pdf'},\n",
       "  {'page': 7, 'source': 'networking_devices.pdf'},\n",
       "  {'page': 7, 'source': 'networking_devices.pdf'},\n",
       "  {'page': 7, 'source': 'networking_devices.pdf'},\n",
       "  {'page': 7, 'source': 'networking_devices.pdf'},\n",
       "  {'page': 7, 'source': 'networking_devices.pdf'},\n",
       "  {'page': 8, 'source': 'networking_devices.pdf'},\n",
       "  {'page': 8, 'source': 'networking_devices.pdf'},\n",
       "  {'page': 8, 'source': 'networking_devices.pdf'},\n",
       "  {'page': 9, 'source': 'networking_devices.pdf'},\n",
       "  {'page': 9, 'source': 'networking_devices.pdf'},\n",
       "  {'page': 9, 'source': 'networking_devices.pdf'},\n",
       "  {'page': 9, 'source': 'networking_devices.pdf'},\n",
       "  {'page': 9, 'source': 'networking_devices.pdf'},\n",
       "  {'page': 9, 'source': 'networking_devices.pdf'},\n",
       "  {'page': 10, 'source': 'networking_devices.pdf'},\n",
       "  {'page': 10, 'source': 'networking_devices.pdf'},\n",
       "  {'page': 10, 'source': 'networking_devices.pdf'},\n",
       "  {'page': 10, 'source': 'networking_devices.pdf'},\n",
       "  {'page': 11, 'source': 'networking_devices.pdf'},\n",
       "  {'page': 11, 'source': 'networking_devices.pdf'},\n",
       "  {'page': 11, 'source': 'networking_devices.pdf'},\n",
       "  {'page': 11, 'source': 'networking_devices.pdf'},\n",
       "  {'page': 11, 'source': 'networking_devices.pdf'},\n",
       "  {'page': 12, 'source': 'networking_devices.pdf'},\n",
       "  {'page': 12, 'source': 'networking_devices.pdf'},\n",
       "  {'page': 12, 'source': 'networking_devices.pdf'},\n",
       "  {'page': 12, 'source': 'networking_devices.pdf'},\n",
       "  {'page': 12, 'source': 'networking_devices.pdf'},\n",
       "  {'page': 12, 'source': 'networking_devices.pdf'},\n",
       "  {'page': 13, 'source': 'networking_devices.pdf'},\n",
       "  {'page': 13, 'source': 'networking_devices.pdf'},\n",
       "  {'page': 13, 'source': 'networking_devices.pdf'},\n",
       "  {'page': 13, 'source': 'networking_devices.pdf'},\n",
       "  {'page': 13, 'source': 'networking_devices.pdf'},\n",
       "  {'page': 14, 'source': 'networking_devices.pdf'},\n",
       "  {'page': 14, 'source': 'networking_devices.pdf'},\n",
       "  {'page': 14, 'source': 'networking_devices.pdf'},\n",
       "  {'page': 14, 'source': 'networking_devices.pdf'},\n",
       "  {'page': 14, 'source': 'networking_devices.pdf'},\n",
       "  {'page': 15, 'source': 'networking_devices.pdf'},\n",
       "  {'page': 15, 'source': 'networking_devices.pdf'},\n",
       "  {'page': 15, 'source': 'networking_devices.pdf'},\n",
       "  {'page': 15, 'source': 'networking_devices.pdf'},\n",
       "  {'page': 16, 'source': 'networking_devices.pdf'},\n",
       "  {'page': 16, 'source': 'networking_devices.pdf'},\n",
       "  {'page': 16, 'source': 'networking_devices.pdf'},\n",
       "  {'page': 16, 'source': 'networking_devices.pdf'},\n",
       "  {'page': 16, 'source': 'networking_devices.pdf'},\n",
       "  {'page': 16, 'source': 'networking_devices.pdf'},\n",
       "  {'page': 17, 'source': 'networking_devices.pdf'},\n",
       "  {'page': 17, 'source': 'networking_devices.pdf'},\n",
       "  {'page': 17, 'source': 'networking_devices.pdf'},\n",
       "  {'page': 17, 'source': 'networking_devices.pdf'},\n",
       "  {'page': 18, 'source': 'networking_devices.pdf'},\n",
       "  {'page': 18, 'source': 'networking_devices.pdf'},\n",
       "  {'page': 18, 'source': 'networking_devices.pdf'},\n",
       "  {'page': 18, 'source': 'networking_devices.pdf'},\n",
       "  {'page': 18, 'source': 'networking_devices.pdf'},\n",
       "  {'page': 18, 'source': 'networking_devices.pdf'},\n",
       "  {'page': 19, 'source': 'networking_devices.pdf'},\n",
       "  {'page': 19, 'source': 'networking_devices.pdf'},\n",
       "  {'page': 19, 'source': 'networking_devices.pdf'},\n",
       "  {'page': 19, 'source': 'networking_devices.pdf'},\n",
       "  {'page': 20, 'source': 'networking_devices.pdf'},\n",
       "  {'page': 20, 'source': 'networking_devices.pdf'},\n",
       "  {'page': 20, 'source': 'networking_devices.pdf'},\n",
       "  {'page': 20, 'source': 'networking_devices.pdf'},\n",
       "  {'page': 20, 'source': 'networking_devices.pdf'},\n",
       "  {'page': 21, 'source': 'networking_devices.pdf'},\n",
       "  {'page': 21, 'source': 'networking_devices.pdf'},\n",
       "  {'page': 21, 'source': 'networking_devices.pdf'},\n",
       "  {'page': 22, 'source': 'networking_devices.pdf'},\n",
       "  {'page': 23, 'source': 'networking_devices.pdf'},\n",
       "  {'page': 23, 'source': 'networking_devices.pdf'},\n",
       "  {'page': 23, 'source': 'networking_devices.pdf'},\n",
       "  {'page': 23, 'source': 'networking_devices.pdf'},\n",
       "  {'page': 23, 'source': 'networking_devices.pdf'},\n",
       "  {'page': 24, 'source': 'networking_devices.pdf'},\n",
       "  {'page': 24, 'source': 'networking_devices.pdf'},\n",
       "  {'page': 24, 'source': 'networking_devices.pdf'},\n",
       "  {'page': 24, 'source': 'networking_devices.pdf'},\n",
       "  {'page': 25, 'source': 'networking_devices.pdf'},\n",
       "  {'page': 25, 'source': 'networking_devices.pdf'},\n",
       "  {'page': 25, 'source': 'networking_devices.pdf'},\n",
       "  {'page': 25, 'source': 'networking_devices.pdf'},\n",
       "  {'page': 25, 'source': 'networking_devices.pdf'},\n",
       "  {'page': 25, 'source': 'networking_devices.pdf'},\n",
       "  {'page': 26, 'source': 'networking_devices.pdf'},\n",
       "  {'page': 26, 'source': 'networking_devices.pdf'},\n",
       "  {'page': 26, 'source': 'networking_devices.pdf'},\n",
       "  {'page': 26, 'source': 'networking_devices.pdf'}],\n",
       " 'included': [<IncludeEnum.documents: 'documents'>,\n",
       "  <IncludeEnum.metadatas: 'metadatas'>]}"
      ]
     },
     "execution_count": 48,
     "metadata": {},
     "output_type": "execute_result"
    }
   ],
   "source": [
    "vectorstore.get()"
   ]
  },
  {
   "cell_type": "code",
   "execution_count": 121,
   "metadata": {},
   "outputs": [],
   "source": [
    "retriever = vectorstore.as_retriever(search_type = 'mmr', \n",
    "                                     search_kwargs = {'k': 4, \n",
    "                                                      'lambda_mult': 0.9, 'filter' : {'page': 1} })"
   ]
  },
  {
   "cell_type": "code",
   "execution_count": 126,
   "metadata": {},
   "outputs": [],
   "source": [
    "from langchain_core.prompts import PromptTemplate\n",
    "\n",
    "\n",
    "TEMPLATE = '''\n",
    "Answer the following question:\n",
    "{question}\n",
    "\n",
    "To answer the question, use only the following context:\n",
    "{context}\n",
    "\n",
    "Provide a concise summary of the topic in 50 words or fewer. \n",
    "Include distinct points, where possible, and avoid one long paragraph.\n",
    " Ensure clarity and brevity while organizing information effectively\n",
    "'''\n",
    "\n",
    "prompt_template = PromptTemplate.from_template(TEMPLATE)"
   ]
  },
  {
   "cell_type": "code",
   "execution_count": 103,
   "metadata": {},
   "outputs": [],
   "source": [
    "from langchain_huggingface import HuggingFaceEndpoint, ChatHuggingFace\n",
    "\n",
    "llm = HuggingFaceEndpoint(\n",
    "    repo_id=\"meta-llama/Meta-Llama-3-8B-Instruct\",\n",
    "    task=\"text-generation\",\n",
    "    max_new_tokens=500,\n",
    "    do_sample=False,\n",
    "    repetition_penalty=1.03,\n",
    ")\n",
    "\n",
    "chat = ChatHuggingFace(llm=llm)"
   ]
  },
  {
   "cell_type": "code",
   "execution_count": 127,
   "metadata": {},
   "outputs": [],
   "source": [
    "from langchain_core.runnables import RunnablePassthrough\n",
    "from langchain_core.runnables import RunnableParallel\n",
    "from langchain_core.output_parsers import StrOutputParser\n",
    "\n",
    "chain = ({'context': retriever, \n",
    "         'question': RunnablePassthrough()} \n",
    "         | prompt_template\n",
    "         | chat\n",
    "         | StrOutputParser())"
   ]
  },
  {
   "cell_type": "code",
   "execution_count": 128,
   "metadata": {},
   "outputs": [
    {
     "name": "stdout",
     "output_type": "stream",
     "text": [
      "**What is a Hub?**\n",
      "\n",
      "A hub is a simple networking device that directs data packets to all connected devices, regardless of their destination. It provides a pathway for electrical signals and can be passive (just a physical connection) or active (regenerates signals before forwarding).\n",
      "\n",
      "**Types of Hubs:**\n",
      "\n",
      "1. **Passive Hub**: simple, physical device that provides a pathway for signals.\n",
      "2. **Active Hub**: regenerates signals before forwarding them to all connected devices.\n",
      "3.\n"
     ]
    }
   ],
   "source": [
    "# question = input(\"Enter the question: \")\n",
    "print(chain.invoke(question))"
   ]
  },
  {
   "cell_type": "code",
   "execution_count": 122,
   "metadata": {},
   "outputs": [
    {
     "name": "stdout",
     "output_type": "stream",
     "text": [
      "Page no.: 1 Page Content: Hubs are simple devices that direct data packets to all devices connected to the hub, regardless of whether the data package is destined for the device. This makes them ineffi- cient devices and can create a performance bottleneck on busy networks. In its most basic form, a hub does nothing except provide a pathway for the electrical signals to travel along. Such a device is called a passive hub.\n",
      "\n",
      "Page no.: 1 Page Content: This chapter introduces commonly used networking devices, and, although it is true that you are not likely to encounter all of the devices mentioned in this chapter on the exam, you can be assured of working with at least some of them. Hubs At the bottom of the networking food chain, so to speak, are hubs. Hubs are used in networks that use twisted-pair cabling to connect devices. Hubs can also be joined together to create larger networks.\n",
      "\n",
      "Page no.: 1 Page Content: Such a device is called a passive hub. Far more common nowadays is an active hub, which, as well as providing a path for the data signals, regenerates the signal before it forwards it to all of the connected devices. A hub does not perform any processing on the data that it forwards, nor does it perform any error checking. Hubs come in a variety of shapes and sizes. Small hubs with five or eight con- nection ports are commonly referred to as workgroup hubs.\n",
      "\n",
      "Page no.: 1 Page Content: Others can accommodate larger numbers of devices (normally up to 32). These are referred to as high-density devices. Because hubs don’t perform any processing, they do little except enable communication between connected devices. For today’s high-demand network applications, something with a little more intelligence is required. That’s where switches come in. MSAU In a T oken Ring network, a multistation access unit (MSAU) is used in place of the hub that is used on an Ethernet network.\n",
      "\n"
     ]
    }
   ],
   "source": [
    "retrieved_docs = retriever.invoke(question)\n",
    "\n",
    "for i in retrieved_docs:\n",
    "    print(f\"Page no.: {i.metadata['page']} Page Content: {i.page_content}\\n\")\n"
   ]
  }
 ],
 "metadata": {
  "kernelspec": {
   "display_name": "Python 3",
   "language": "python",
   "name": "python3"
  },
  "language_info": {
   "codemirror_mode": {
    "name": "ipython",
    "version": 3
   },
   "file_extension": ".py",
   "mimetype": "text/x-python",
   "name": "python",
   "nbconvert_exporter": "python",
   "pygments_lexer": "ipython3",
   "version": "3.12.4"
  }
 },
 "nbformat": 4,
 "nbformat_minor": 2
}
