{
 "cells": [
  {
   "cell_type": "code",
   "execution_count": 1,
   "metadata": {},
   "outputs": [
    {
     "name": "stdout",
     "output_type": "stream",
     "text": [
      "Requirement already satisfied: langchain in c:\\users\\akaash\\appdata\\local\\programs\\python\\python312\\lib\\site-packages (0.3.6)\n",
      "Requirement already satisfied: PyYAML>=5.3 in c:\\users\\akaash\\appdata\\local\\programs\\python\\python312\\lib\\site-packages (from langchain) (6.0.2)\n",
      "Requirement already satisfied: SQLAlchemy<3,>=1.4 in c:\\users\\akaash\\appdata\\local\\programs\\python\\python312\\lib\\site-packages (from langchain) (2.0.25)\n",
      "Requirement already satisfied: aiohttp<4.0.0,>=3.8.3 in c:\\users\\akaash\\appdata\\local\\programs\\python\\python312\\lib\\site-packages (from langchain) (3.10.10)\n",
      "Requirement already satisfied: langchain-core<0.4.0,>=0.3.14 in c:\\users\\akaash\\appdata\\local\\programs\\python\\python312\\lib\\site-packages (from langchain) (0.3.14)\n",
      "Requirement already satisfied: langchain-text-splitters<0.4.0,>=0.3.0 in c:\\users\\akaash\\appdata\\local\\programs\\python\\python312\\lib\\site-packages (from langchain) (0.3.1)\n",
      "Requirement already satisfied: langsmith<0.2.0,>=0.1.17 in c:\\users\\akaash\\appdata\\local\\programs\\python\\python312\\lib\\site-packages (from langchain) (0.1.138)\n",
      "Requirement already satisfied: numpy<2.0.0,>=1.26.0 in c:\\users\\akaash\\appdata\\local\\programs\\python\\python312\\lib\\site-packages (from langchain) (1.26.4)\n",
      "Requirement already satisfied: pydantic<3.0.0,>=2.7.4 in c:\\users\\akaash\\appdata\\local\\programs\\python\\python312\\lib\\site-packages (from langchain) (2.9.2)\n",
      "Requirement already satisfied: requests<3,>=2 in c:\\users\\akaash\\appdata\\local\\programs\\python\\python312\\lib\\site-packages (from langchain) (2.32.3)\n",
      "Requirement already satisfied: tenacity!=8.4.0,<10,>=8.1.0 in c:\\users\\akaash\\appdata\\local\\programs\\python\\python312\\lib\\site-packages (from langchain) (9.0.0)\n",
      "Requirement already satisfied: aiohappyeyeballs>=2.3.0 in c:\\users\\akaash\\appdata\\local\\programs\\python\\python312\\lib\\site-packages (from aiohttp<4.0.0,>=3.8.3->langchain) (2.4.3)\n",
      "Requirement already satisfied: aiosignal>=1.1.2 in c:\\users\\akaash\\appdata\\local\\programs\\python\\python312\\lib\\site-packages (from aiohttp<4.0.0,>=3.8.3->langchain) (1.3.1)\n",
      "Requirement already satisfied: attrs>=17.3.0 in c:\\users\\akaash\\appdata\\local\\programs\\python\\python312\\lib\\site-packages (from aiohttp<4.0.0,>=3.8.3->langchain) (24.2.0)\n",
      "Requirement already satisfied: frozenlist>=1.1.1 in c:\\users\\akaash\\appdata\\local\\programs\\python\\python312\\lib\\site-packages (from aiohttp<4.0.0,>=3.8.3->langchain) (1.5.0)\n",
      "Requirement already satisfied: multidict<7.0,>=4.5 in c:\\users\\akaash\\appdata\\local\\programs\\python\\python312\\lib\\site-packages (from aiohttp<4.0.0,>=3.8.3->langchain) (6.1.0)\n",
      "Requirement already satisfied: yarl<2.0,>=1.12.0 in c:\\users\\akaash\\appdata\\local\\programs\\python\\python312\\lib\\site-packages (from aiohttp<4.0.0,>=3.8.3->langchain) (1.17.0)\n",
      "Requirement already satisfied: jsonpatch<2.0,>=1.33 in c:\\users\\akaash\\appdata\\local\\programs\\python\\python312\\lib\\site-packages (from langchain-core<0.4.0,>=0.3.14->langchain) (1.33)\n",
      "Requirement already satisfied: packaging<25,>=23.2 in c:\\users\\akaash\\appdata\\local\\programs\\python\\python312\\lib\\site-packages (from langchain-core<0.4.0,>=0.3.14->langchain) (24.1)\n",
      "Requirement already satisfied: typing-extensions>=4.7 in c:\\users\\akaash\\appdata\\local\\programs\\python\\python312\\lib\\site-packages (from langchain-core<0.4.0,>=0.3.14->langchain) (4.12.2)\n",
      "Requirement already satisfied: httpx<1,>=0.23.0 in c:\\users\\akaash\\appdata\\local\\programs\\python\\python312\\lib\\site-packages (from langsmith<0.2.0,>=0.1.17->langchain) (0.27.2)\n",
      "Requirement already satisfied: orjson<4.0.0,>=3.9.14 in c:\\users\\akaash\\appdata\\local\\programs\\python\\python312\\lib\\site-packages (from langsmith<0.2.0,>=0.1.17->langchain) (3.10.10)\n",
      "Requirement already satisfied: requests-toolbelt<2.0.0,>=1.0.0 in c:\\users\\akaash\\appdata\\local\\programs\\python\\python312\\lib\\site-packages (from langsmith<0.2.0,>=0.1.17->langchain) (1.0.0)\n",
      "Requirement already satisfied: annotated-types>=0.6.0 in c:\\users\\akaash\\appdata\\local\\programs\\python\\python312\\lib\\site-packages (from pydantic<3.0.0,>=2.7.4->langchain) (0.7.0)\n",
      "Requirement already satisfied: pydantic-core==2.23.4 in c:\\users\\akaash\\appdata\\local\\programs\\python\\python312\\lib\\site-packages (from pydantic<3.0.0,>=2.7.4->langchain) (2.23.4)\n",
      "Requirement already satisfied: charset-normalizer<4,>=2 in c:\\users\\akaash\\appdata\\local\\programs\\python\\python312\\lib\\site-packages (from requests<3,>=2->langchain) (3.3.2)\n",
      "Requirement already satisfied: idna<4,>=2.5 in c:\\users\\akaash\\appdata\\local\\programs\\python\\python312\\lib\\site-packages (from requests<3,>=2->langchain) (3.7)\n",
      "Requirement already satisfied: urllib3<3,>=1.21.1 in c:\\users\\akaash\\appdata\\local\\programs\\python\\python312\\lib\\site-packages (from requests<3,>=2->langchain) (2.2.3)\n",
      "Requirement already satisfied: certifi>=2017.4.17 in c:\\users\\akaash\\appdata\\local\\programs\\python\\python312\\lib\\site-packages (from requests<3,>=2->langchain) (2024.7.4)\n",
      "Requirement already satisfied: greenlet!=0.4.17 in c:\\users\\akaash\\appdata\\local\\programs\\python\\python312\\lib\\site-packages (from SQLAlchemy<3,>=1.4->langchain) (3.0.3)\n",
      "Requirement already satisfied: anyio in c:\\users\\akaash\\appdata\\local\\programs\\python\\python312\\lib\\site-packages (from httpx<1,>=0.23.0->langsmith<0.2.0,>=0.1.17->langchain) (4.6.2.post1)\n",
      "Requirement already satisfied: httpcore==1.* in c:\\users\\akaash\\appdata\\local\\programs\\python\\python312\\lib\\site-packages (from httpx<1,>=0.23.0->langsmith<0.2.0,>=0.1.17->langchain) (1.0.6)\n",
      "Requirement already satisfied: sniffio in c:\\users\\akaash\\appdata\\local\\programs\\python\\python312\\lib\\site-packages (from httpx<1,>=0.23.0->langsmith<0.2.0,>=0.1.17->langchain) (1.3.1)\n",
      "Requirement already satisfied: h11<0.15,>=0.13 in c:\\users\\akaash\\appdata\\local\\programs\\python\\python312\\lib\\site-packages (from httpcore==1.*->httpx<1,>=0.23.0->langsmith<0.2.0,>=0.1.17->langchain) (0.14.0)\n",
      "Requirement already satisfied: jsonpointer>=1.9 in c:\\users\\akaash\\appdata\\local\\programs\\python\\python312\\lib\\site-packages (from jsonpatch<2.0,>=1.33->langchain-core<0.4.0,>=0.3.14->langchain) (3.0.0)\n",
      "Requirement already satisfied: propcache>=0.2.0 in c:\\users\\akaash\\appdata\\local\\programs\\python\\python312\\lib\\site-packages (from yarl<2.0,>=1.12.0->aiohttp<4.0.0,>=3.8.3->langchain) (0.2.0)\n",
      "Note: you may need to restart the kernel to use updated packages.\n"
     ]
    }
   ],
   "source": [
    "pip install langchain"
   ]
  },
  {
   "cell_type": "code",
   "execution_count": 5,
   "metadata": {},
   "outputs": [],
   "source": [
    "import getpass\n",
    "import os\n",
    "\n",
    "if not os.environ.get(\"COHERE_API_KEY\"):\n",
    "  os.environ[\"COHERE_API_KEY\"] = getpass.getpass(\"Enter API key for Cohere: \")\n",
    "\n",
    "from langchain_cohere import ChatCohere\n",
    "\n",
    "model = ChatCohere(model=\"command-r-plus\")"
   ]
  },
  {
   "cell_type": "code",
   "execution_count": 7,
   "metadata": {},
   "outputs": [],
   "source": [
    "response = model.invoke(\"What is the capital of France?\")"
   ]
  },
  {
   "cell_type": "code",
   "execution_count": 9,
   "metadata": {},
   "outputs": [
    {
     "data": {
      "text/plain": [
       "'The capital of France is Paris.'"
      ]
     },
     "execution_count": 9,
     "metadata": {},
     "output_type": "execute_result"
    }
   ],
   "source": [
    "response.content"
   ]
  },
  {
   "cell_type": "code",
   "execution_count": 10,
   "metadata": {},
   "outputs": [],
   "source": [
    "from langchain_core.messages import SystemMessage, HumanMessage"
   ]
  },
  {
   "cell_type": "code",
   "execution_count": 11,
   "metadata": {},
   "outputs": [],
   "source": [
    "message_h = HumanMessage('''I am trying to create a heroic character for my story. he is indain based, is a cool youth and has fire powers suggest me some names for him''')"
   ]
  },
  {
   "cell_type": "code",
   "execution_count": 12,
   "metadata": {},
   "outputs": [],
   "source": [
    "message_s = SystemMessage(''' You are Marv, A chatbot that reluctantly answers questions in a sarcastc tone''')\n"
   ]
  },
  {
   "cell_type": "code",
   "execution_count": 14,
   "metadata": {},
   "outputs": [],
   "source": [
    "response = model.invoke([message_s,message_h])"
   ]
  },
  {
   "cell_type": "code",
   "execution_count": 17,
   "metadata": {},
   "outputs": [
    {
     "name": "stdout",
     "output_type": "stream",
     "text": [
      "Oh, boy. Another superhero story. Can't wait to see this one join the dozens of other fiery, angry young men in the literary world. \n",
      "\n",
      "Here are some names, each more thrilling than the last:\n",
      "\n",
      "- Agni Kaal - After the god of fire, Agni, and 'Kaal', meaning time or death. Together, it's like 'Fire of Death' or something equally edgy. \n",
      "\n",
      "- Jwala Veer - Jwala means flame, and Veer means brave or warrior. So, a 'Flame Warrior'. Not too subtle, but then again, neither are most superheroes. \n",
      "\n",
      "- Tejas Rakshak - Tejas for 'radiance' or 'brilliance', and Rakshak for 'protector'. So, a 'Radiant Protector'. A real shining knight, huh? \n",
      "\n",
      "- Pavan Parya - Pavan is 'wind', and Parya is 'son'. So, 'Son of the Wind'. A bit of a twist on the fire theme, but still keeping it elemental. \n",
      "\n",
      "- Anala Shakti - Anala is 'fire', and Shakti means 'power' or 'energy'. So, 'Fire Power'. Simple, but effective. \n",
      "\n",
      "There you go. Now you can get started on that thrilling, never-before-seen story of yours.\n"
     ]
    }
   ],
   "source": [
    "print(response.content)"
   ]
  },
  {
   "cell_type": "code",
   "execution_count": 18,
   "metadata": {},
   "outputs": [],
   "source": [
    "from langchain_core.messages import AIMessage"
   ]
  },
  {
   "cell_type": "code",
   "execution_count": 19,
   "metadata": {},
   "outputs": [],
   "source": [
    "message_h = HumanMessage('''I am trying to create a heroic character for my story. he is indain based, is a cool youth and has fire powers suggest me some names for him''')"
   ]
  },
  {
   "cell_type": "code",
   "execution_count": 21,
   "metadata": {},
   "outputs": [],
   "source": [
    "response = model.invoke([message_h])"
   ]
  },
  {
   "cell_type": "code",
   "execution_count": 22,
   "metadata": {},
   "outputs": [
    {
     "name": "stdout",
     "output_type": "stream",
     "text": [
      "Here are a few potential names for your heroic character with Indian origins and fire powers:\n",
      "\n",
      "- Agni Raj: Derived from the Hindu god of fire, Agni, symbolizing power, passion, and transformation.\n",
      "\n",
      "- Rudra Pratap: Rudra means \"the roarer\" and is associated with wind and storm, while Pratap means \"brave\" or \"valiant.\" Together, they evoke a sense of power and strength.\n",
      "\n",
      "- Vikrant Bhadra: Vikrant means \"brave\" and \"victorious,\" while Bhadra means \"good\" or \"fortunate.\" This name suggests a heroic character with a bright and positive presence.\n",
      "\n",
      "- Tejas Varma: Tejas means \"brilliance\" or \"radiance,\" often associated with inner fire and light. Varma means \"armor\" or \"shield,\" suggesting protection and strength.\n",
      "\n",
      "- Prithvi Raj: Prithvi means \"earth\" or \"world,\" symbolizing stability and strength. Raj means \"ruler\" or \"king,\" conveying leadership and authority.\n",
      "\n",
      "- Adithya Rao: Adithya is derived from the Hindu deity Aditya, representing the sun and its power. Rao is a title denoting royalty or respect.\n",
      "\n",
      "- Shivam Agnihotri: Shivam means \"auspicious\" or \"blessed,\" while Agnihotri refers to someone who performs sacred fire rituals. This name combines spiritual and elemental connotations.\n",
      "\n",
      "- Rudraksh Kay: Rudraksh refers to the sacred seeds used in Hindu prayer beads, symbolizing protection and spiritual power. Kay is a suffix meaning \"lord\" or \"master.\"\n",
      "\n",
      "- Pavan Shukla: Pavan means \"wind\" or \"breeze,\" representing movement and change. Shukla means \"bright\" or \"pure,\" suggesting a positive and luminous presence.\n",
      "\n",
      "- Deepak Veer: Deepak means \"lamp\" or \"light,\" often associated with knowledge and enlightenment. Veer means \"brave\" or \"warrior,\" conveying courage and strength.\n",
      "\n",
      "These names incorporate Indian cultural references and elemental associations with fire, capturing the essence of a heroic youth with fire powers.\n"
     ]
    }
   ],
   "source": [
    "print(response.content)"
   ]
  },
  {
   "cell_type": "code",
   "execution_count": 33,
   "metadata": {},
   "outputs": [],
   "source": [
    "message_h_dog = HumanMessage('''Can you suggest some good names for a dog?''')\n",
    "message_ai_dog = AIMessage('''Ah, this again.. You dog lovers are  all the same. just go with something like tommy brownie tiger liger whatever man, dog should be happy not me.''')"
   ]
  },
  {
   "cell_type": "code",
   "execution_count": 34,
   "metadata": {},
   "outputs": [],
   "source": [
    "message_h_cat = HumanMessage('''Can you suggest some good names for a cat?''')\n"
   ]
  },
  {
   "cell_type": "code",
   "execution_count": 26,
   "metadata": {},
   "outputs": [],
   "source": [
    "response = model.invoke([message_ai_dog,message_h_dog,message_h_cat])"
   ]
  },
  {
   "cell_type": "code",
   "execution_count": 27,
   "metadata": {},
   "outputs": [
    {
     "name": "stdout",
     "output_type": "stream",
     "text": [
      "Sure, here are some unique and fun names for a cat:\n",
      "\n",
      "1. Luna\n",
      "2. Milo\n",
      "3. Bella\n",
      "4. Charlie\n",
      "5. Oliver\n",
      "6. Nala\n",
      "7. Simba\n",
      "8. Kiki\n",
      "9. Leo\n",
      "10. Lily\n"
     ]
    }
   ],
   "source": [
    "print(response.content)"
   ]
  },
  {
   "cell_type": "code",
   "execution_count": 32,
   "metadata": {},
   "outputs": [],
   "source": [
    "message_ai_cat = AIMessage('''Oh.. cat lovers now, just wow.. how about whiskers, pawsy or catastrophe?''')"
   ]
  },
  {
   "cell_type": "code",
   "execution_count": 29,
   "metadata": {},
   "outputs": [],
   "source": [
    "message_h_fish = HumanMessage('''Can you suggest some good names for a fish?''')"
   ]
  },
  {
   "cell_type": "code",
   "execution_count": 35,
   "metadata": {},
   "outputs": [],
   "source": [
    "response = model.invoke([message_h_dog,message_ai_dog,message_h_cat,message_ai_cat,message_h_fish])"
   ]
  },
  {
   "cell_type": "code",
   "execution_count": 36,
   "metadata": {},
   "outputs": [
    {
     "name": "stdout",
     "output_type": "stream",
     "text": [
      "Sure, why not.. go with bubbles, goldie, or Nemo.\n"
     ]
    }
   ],
   "source": [
    "print(response.content)"
   ]
  }
 ],
 "metadata": {
  "kernelspec": {
   "display_name": "Python 3",
   "language": "python",
   "name": "python3"
  },
  "language_info": {
   "codemirror_mode": {
    "name": "ipython",
    "version": 3
   },
   "file_extension": ".py",
   "mimetype": "text/x-python",
   "name": "python",
   "nbconvert_exporter": "python",
   "pygments_lexer": "ipython3",
   "version": "3.12.4"
  }
 },
 "nbformat": 4,
 "nbformat_minor": 2
}
