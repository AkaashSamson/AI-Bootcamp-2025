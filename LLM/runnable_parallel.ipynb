{
 "cells": [
  {
   "cell_type": "code",
   "execution_count": 1,
   "metadata": {},
   "outputs": [],
   "source": [
    "from langchain_core.prompts import ChatPromptTemplate\n",
    "from langchain_openai import ChatOpenAI\n",
    "from langchain_core.output_parsers import StrOutputParser\n",
    "from langchain_core.runnables import RunnableParallel"
   ]
  },
  {
   "cell_type": "code",
   "execution_count": 2,
   "metadata": {},
   "outputs": [],
   "source": [
    "from langchain_huggingface import HuggingFaceEndpoint, ChatHuggingFace\n",
    "\n",
    "llm = HuggingFaceEndpoint(\n",
    "    repo_id=\"meta-llama/Meta-Llama-3-8B-Instruct\",\n",
    "    task=\"text-generation\",\n",
    "    max_new_tokens=100,\n",
    "    do_sample=False,\n",
    "    repetition_penalty=1.03,\n",
    ")\n",
    "\n",
    "chat = ChatHuggingFace(llm=llm, verbose=True)"
   ]
  },
  {
   "cell_type": "code",
   "execution_count": 3,
   "metadata": {},
   "outputs": [],
   "source": [
    "chat_template_books = ChatPromptTemplate.from_template(\n",
    "    '''\n",
    "    Suggest three of the best intermediate-level {programming language} books. \n",
    "    Answer only by listing the books.\n",
    "    '''\n",
    ")\n",
    "\n",
    "chat_template_projects = ChatPromptTemplate.from_template(\n",
    "    '''\n",
    "    Suggest three interesting {programming language} projects suitable for intermediate-level programmers. \n",
    "    Answer only by listing the projects.\n",
    "    '''\n",
    ")"
   ]
  },
  {
   "cell_type": "code",
   "execution_count": 4,
   "metadata": {},
   "outputs": [],
   "source": [
    "string_parser = StrOutputParser()"
   ]
  },
  {
   "cell_type": "code",
   "execution_count": 5,
   "metadata": {},
   "outputs": [],
   "source": [
    "chain_books = chat_template_books | chat | string_parser\n",
    "\n",
    "chain_projects = chat_template_projects | chat | string_parser"
   ]
  },
  {
   "cell_type": "code",
   "execution_count": 6,
   "metadata": {},
   "outputs": [],
   "source": [
    "chain_parallel = RunnableParallel({'books':chain_books, 'projects':chain_projects})\n"
   ]
  },
  {
   "cell_type": "code",
   "execution_count": 7,
   "metadata": {},
   "outputs": [
    {
     "data": {
      "text/plain": [
       "{'books': 'Here are three intermediate-level Python books:\\n\\n1. \"Automate the Boring Stuff with Python\" by Al Sweigart\\n2. \"Python Crash Course\" by Eric Matthes\\n3. \"Python for Data Analysis\" by Wes McKinney',\n",
       " 'projects': 'Here are three interesting Python projects suitable for intermediate-level programmers:\\n\\n1. Building a Chatbot using Natural Language Processing (NLP)\\n2. Creating a Web Scraper to Extract Data from a Website\\n3. Developing a Game using Pygame or a similar Game Development Library'}"
      ]
     },
     "execution_count": 7,
     "metadata": {},
     "output_type": "execute_result"
    }
   ],
   "source": [
    "chain_parallel.invoke({'programming language':'Python'})"
   ]
  },
  {
   "cell_type": "code",
   "execution_count": 8,
   "metadata": {},
   "outputs": [
    {
     "name": "stdout",
     "output_type": "stream",
     "text": [
      "               +-------------------------------+                 \n",
      "               | Parallel<books,projects>Input |                 \n",
      "               +-------------------------------+                 \n",
      "                    ***                  ***                     \n",
      "                ****                        ****                 \n",
      "              **                                **               \n",
      "+--------------------+                   +--------------------+  \n",
      "| ChatPromptTemplate |                   | ChatPromptTemplate |  \n",
      "+--------------------+                   +--------------------+  \n",
      "           *                                        *            \n",
      "           *                                        *            \n",
      "           *                                        *            \n",
      "  +-----------------+                     +-----------------+    \n",
      "  | ChatHuggingFace |                     | ChatHuggingFace |    \n",
      "  +-----------------+                     +-----------------+    \n",
      "           *                                        *            \n",
      "           *                                        *            \n",
      "           *                                        *            \n",
      "  +-----------------+                     +-----------------+    \n",
      "  | StrOutputParser |                     | StrOutputParser |    \n",
      "  +-----------------+                     +-----------------+    \n",
      "                    ***                  ***                     \n",
      "                       ****          ****                        \n",
      "                           **      **                            \n",
      "              +--------------------------------+                 \n",
      "              | Parallel<books,projects>Output |                 \n",
      "              +--------------------------------+                 \n"
     ]
    }
   ],
   "source": [
    "chain_parallel.get_graph().print_ascii()"
   ]
  },
  {
   "cell_type": "code",
   "execution_count": 9,
   "metadata": {},
   "outputs": [
    {
     "name": "stdout",
     "output_type": "stream",
     "text": [
      "CPU times: total: 15.6 ms\n",
      "Wall time: 669 ms\n"
     ]
    },
    {
     "data": {
      "text/plain": [
       "'Here are three intermediate-level Python books:\\n\\n1. \"Automate the Boring Stuff with Python\" by Al Sweigart\\n2. \"Python Crash Course\" by Eric Matthes\\n3. \"Python for Data Analysis\" by Wes McKinney'"
      ]
     },
     "execution_count": 9,
     "metadata": {},
     "output_type": "execute_result"
    }
   ],
   "source": [
    "%%time\n",
    "chain_books.invoke({'programming language':'Python'})"
   ]
  },
  {
   "cell_type": "code",
   "execution_count": 10,
   "metadata": {},
   "outputs": [
    {
     "name": "stdout",
     "output_type": "stream",
     "text": [
      "CPU times: total: 31.2 ms\n",
      "Wall time: 222 ms\n"
     ]
    },
    {
     "data": {
      "text/plain": [
       "'Here are three interesting Python projects suitable for intermediate-level programmers:\\n\\n1. Building a Chatbot using Natural Language Processing (NLP)\\n2. Creating a Web Scraper to Extract Data from a Website\\n3. Developing a Game using Pygame or a similar Game Development Library'"
      ]
     },
     "execution_count": 10,
     "metadata": {},
     "output_type": "execute_result"
    }
   ],
   "source": [
    "%%time\n",
    "chain_projects.invoke({'programming language':'Python'})"
   ]
  },
  {
   "cell_type": "code",
   "execution_count": 11,
   "metadata": {},
   "outputs": [
    {
     "name": "stdout",
     "output_type": "stream",
     "text": [
      "CPU times: total: 15.6 ms\n",
      "Wall time: 760 ms\n"
     ]
    },
    {
     "data": {
      "text/plain": [
       "{'books': 'Here are three intermediate-level Python books:\\n\\n1. \"Automate the Boring Stuff with Python\" by Al Sweigart\\n2. \"Python Crash Course\" by Eric Matthes\\n3. \"Python for Data Analysis\" by Wes McKinney',\n",
       " 'projects': 'Here are three interesting Python projects suitable for intermediate-level programmers:\\n\\n1. Building a Chatbot using Natural Language Processing (NLP)\\n2. Creating a Web Scraper to Extract Data from a Website\\n3. Developing a Game using Pygame or a similar Game Development Library'}"
      ]
     },
     "execution_count": 11,
     "metadata": {},
     "output_type": "execute_result"
    }
   ],
   "source": [
    "%%time\n",
    "chain_parallel.invoke({'programming language':'Python'})"
   ]
  },
  {
   "cell_type": "markdown",
   "metadata": {},
   "source": [
    "# Piping a RunnableParallel with other Runnables"
   ]
  },
  {
   "cell_type": "code",
   "execution_count": 12,
   "metadata": {},
   "outputs": [],
   "source": [
    "chat_template_time = ChatPromptTemplate.from_template(\n",
    "     '''\n",
    "     I'm an intermediate level programmer.\n",
    "     \n",
    "     Consider the following literature:\n",
    "     {books}\n",
    "     \n",
    "     Also, consider the following projects:\n",
    "     {projects}\n",
    "     \n",
    "     Roughly how much time would it take me to complete the literature and the projects?\n",
    "     \n",
    "     '''\n",
    ")"
   ]
  },
  {
   "cell_type": "code",
   "execution_count": 13,
   "metadata": {},
   "outputs": [],
   "source": [
    "chain_time2 = ({'books':chain_books, \n",
    "                'projects':chain_projects}\n",
    "              | chat_template_time \n",
    "              | chat \n",
    "              | string_parser\n",
    "             )"
   ]
  },
  {
   "cell_type": "markdown",
   "metadata": {},
   "source": [
    "by default it forms this object                    \n",
    "chain_parallel = RunnableParallel({'books':chain_books, 'projects':chain_projects})\n"
   ]
  },
  {
   "cell_type": "code",
   "execution_count": 15,
   "metadata": {},
   "outputs": [
    {
     "name": "stdout",
     "output_type": "stream",
     "text": [
      "What a great combination of literature and projects!\n",
      "\n",
      "To estimate the time it takes to complete the literature and projects, I'll break them down into smaller components and provide a rough estimate of the time required for each.\n",
      "\n",
      "**Literature:**\n",
      "\n",
      "1. \"Automate the Boring Stuff with Python\" by Al Sweigart: 2-3 weeks ( approx. 40-60 hours)\n",
      "This book focuses on practical applications of Python programming, so you'll need to spend time practicing and working on\n"
     ]
    }
   ],
   "source": [
    "print(chain_time2.invoke({'programming language':'Python'}))"
   ]
  },
  {
   "cell_type": "code",
   "execution_count": 16,
   "metadata": {},
   "outputs": [
    {
     "name": "stdout",
     "output_type": "stream",
     "text": [
      "               +-------------------------------+                 \n",
      "               | Parallel<books,projects>Input |                 \n",
      "               +-------------------------------+                 \n",
      "                    ***                  ***                     \n",
      "                ****                        ****                 \n",
      "              **                                **               \n",
      "+--------------------+                   +--------------------+  \n",
      "| ChatPromptTemplate |                   | ChatPromptTemplate |  \n",
      "+--------------------+                   +--------------------+  \n",
      "           *                                        *            \n",
      "           *                                        *            \n",
      "           *                                        *            \n",
      "  +-----------------+                     +-----------------+    \n",
      "  | ChatHuggingFace |                     | ChatHuggingFace |    \n",
      "  +-----------------+                     +-----------------+    \n",
      "           *                                        *            \n",
      "           *                                        *            \n",
      "           *                                        *            \n",
      "  +-----------------+                     +-----------------+    \n",
      "  | StrOutputParser |                     | StrOutputParser |    \n",
      "  +-----------------+                     +-----------------+    \n",
      "                    ***                  ***                     \n",
      "                       ****          ****                        \n",
      "                           **      **                            \n",
      "              +--------------------------------+                 \n",
      "              | Parallel<books,projects>Output |                 \n",
      "              +--------------------------------+                 \n",
      "                                *                                \n",
      "                                *                                \n",
      "                                *                                \n",
      "                    +--------------------+                       \n",
      "                    | ChatPromptTemplate |                       \n",
      "                    +--------------------+                       \n",
      "                                *                                \n",
      "                                *                                \n",
      "                                *                                \n",
      "                      +-----------------+                        \n",
      "                      | ChatHuggingFace |                        \n",
      "                      +-----------------+                        \n",
      "                                *                                \n",
      "                                *                                \n",
      "                                *                                \n",
      "                      +-----------------+                        \n",
      "                      | StrOutputParser |                        \n",
      "                      +-----------------+                        \n",
      "                                *                                \n",
      "                                *                                \n",
      "                                *                                \n",
      "                   +-----------------------+                     \n",
      "                   | StrOutputParserOutput |                     \n",
      "                   +-----------------------+                     \n"
     ]
    }
   ],
   "source": [
    "chain_time2.get_graph().print_ascii()"
   ]
  },
  {
   "cell_type": "markdown",
   "metadata": {},
   "source": [
    "# RunnableLambda\n"
   ]
  },
  {
   "cell_type": "code",
   "execution_count": 18,
   "metadata": {},
   "outputs": [
    {
     "data": {
      "text/plain": [
       "8"
      ]
     },
     "execution_count": 18,
     "metadata": {},
     "output_type": "execute_result"
    }
   ],
   "source": [
    "find_sum = lambda x: sum(x)\n",
    "find_sum([1, 2, 5])"
   ]
  },
  {
   "cell_type": "code",
   "execution_count": 19,
   "metadata": {},
   "outputs": [
    {
     "data": {
      "text/plain": [
       "64"
      ]
     },
     "execution_count": 19,
     "metadata": {},
     "output_type": "execute_result"
    }
   ],
   "source": [
    "find_square = lambda x: x**2\n",
    "find_square(8)"
   ]
  },
  {
   "cell_type": "code",
   "execution_count": 21,
   "metadata": {},
   "outputs": [],
   "source": [
    "from langchain_core.runnables import RunnableLambda"
   ]
  },
  {
   "cell_type": "code",
   "execution_count": 22,
   "metadata": {},
   "outputs": [
    {
     "data": {
      "text/plain": [
       "8"
      ]
     },
     "execution_count": 22,
     "metadata": {},
     "output_type": "execute_result"
    }
   ],
   "source": [
    "runnable_sum = RunnableLambda(lambda x: sum(x))\n",
    "runnable_sum.invoke([1, 2, 5])"
   ]
  },
  {
   "cell_type": "code",
   "execution_count": 23,
   "metadata": {},
   "outputs": [
    {
     "data": {
      "text/plain": [
       "64"
      ]
     },
     "execution_count": 23,
     "metadata": {},
     "output_type": "execute_result"
    }
   ],
   "source": [
    "runnable_square = RunnableLambda(lambda x: x**2)\n",
    "runnable_square.invoke(8)"
   ]
  },
  {
   "cell_type": "code",
   "execution_count": 24,
   "metadata": {},
   "outputs": [],
   "source": [
    "chain = runnable_sum | runnable_square"
   ]
  },
  {
   "cell_type": "code",
   "execution_count": 25,
   "metadata": {},
   "outputs": [
    {
     "data": {
      "text/plain": [
       "64"
      ]
     },
     "execution_count": 25,
     "metadata": {},
     "output_type": "execute_result"
    }
   ],
   "source": [
    "chain.invoke([1, 2, 5])"
   ]
  },
  {
   "cell_type": "code",
   "execution_count": 26,
   "metadata": {},
   "outputs": [
    {
     "name": "stdout",
     "output_type": "stream",
     "text": [
      "+-------------+  \n",
      "| LambdaInput |  \n",
      "+-------------+  \n",
      "        *        \n",
      "        *        \n",
      "        *        \n",
      "   +--------+    \n",
      "   | Lambda |    \n",
      "   +--------+    \n",
      "        *        \n",
      "        *        \n",
      "        *        \n",
      "   +--------+    \n",
      "   | Lambda |    \n",
      "   +--------+    \n",
      "        *        \n",
      "        *        \n",
      "        *        \n",
      "+--------------+ \n",
      "| LambdaOutput | \n",
      "+--------------+ \n"
     ]
    }
   ],
   "source": [
    "chain.get_graph().print_ascii()"
   ]
  },
  {
   "cell_type": "code",
   "execution_count": 27,
   "metadata": {},
   "outputs": [
    {
     "name": "stdout",
     "output_type": "stream",
     "text": [
      "+-------------+  \n",
      "| LambdaInput |  \n",
      "+-------------+  \n",
      "        *        \n",
      "        *        \n",
      "        *        \n",
      "   +--------+    \n",
      "   | Lambda |    \n",
      "   +--------+    \n",
      "        *        \n",
      "        *        \n",
      "        *        \n",
      "   +--------+    \n",
      "   | Lambda |    \n",
      "   +--------+    \n",
      "        *        \n",
      "        *        \n",
      "        *        \n",
      "+--------------+ \n",
      "| LambdaOutput | \n",
      "+--------------+ \n"
     ]
    }
   ],
   "source": [
    "chain.get_graph().print_ascii()"
   ]
  }
 ],
 "metadata": {
  "kernelspec": {
   "display_name": "Python 3",
   "language": "python",
   "name": "python3"
  },
  "language_info": {
   "codemirror_mode": {
    "name": "ipython",
    "version": 3
   },
   "file_extension": ".py",
   "mimetype": "text/x-python",
   "name": "python",
   "nbconvert_exporter": "python",
   "pygments_lexer": "ipython3",
   "version": "3.12.4"
  }
 },
 "nbformat": 4,
 "nbformat_minor": 2
}
