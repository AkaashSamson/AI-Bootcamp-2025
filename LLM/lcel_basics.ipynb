{
 "cells": [
  {
   "cell_type": "code",
   "execution_count": 1,
   "metadata": {},
   "outputs": [],
   "source": [
    "from langchain_core.prompts import ChatPromptTemplate\n",
    "from langchain_openai import ChatOpenAI"
   ]
  },
  {
   "cell_type": "code",
   "execution_count": 2,
   "metadata": {},
   "outputs": [
    {
     "data": {
      "application/vnd.jupyter.widget-view+json": {
       "model_id": "6b2232d688b847cda976f2cac660771d",
       "version_major": 2,
       "version_minor": 0
      },
      "text/plain": [
       "VBox(children=(HTML(value='<center> <img\\nsrc=https://huggingface.co/front/assets/huggingface_logo-noborder.sv…"
      ]
     },
     "metadata": {},
     "output_type": "display_data"
    },
    {
     "name": "stderr",
     "output_type": "stream",
     "text": [
      "Note: Environment variable`HF_TOKEN` is set and is the current active token independently from the token you've just configured.\n"
     ]
    }
   ],
   "source": [
    "import dotenv\n",
    "\n",
    "dotenv.load_dotenv()\n",
    "from huggingface_hub import login\n",
    "login()"
   ]
  },
  {
   "cell_type": "code",
   "execution_count": 18,
   "metadata": {},
   "outputs": [
    {
     "name": "stderr",
     "output_type": "stream",
     "text": [
      "Note: Environment variable`HF_TOKEN` is set and is the current active token independently from the token you've just configured.\n"
     ]
    }
   ],
   "source": [
    "from langchain_huggingface import HuggingFaceEndpoint, ChatHuggingFace\n",
    "\n",
    "llm = HuggingFaceEndpoint(\n",
    "    repo_id=\"meta-llama/Meta-Llama-3-8B-Instruct\",\n",
    "    task=\"text-generation\",\n",
    "    max_new_tokens=100,\n",
    "    do_sample=False,\n",
    "    repetition_penalty=1.03,\n",
    ")\n",
    "\n",
    "chat = ChatHuggingFace(llm=llm, verbose=True)"
   ]
  },
  {
   "cell_type": "code",
   "execution_count": 19,
   "metadata": {},
   "outputs": [],
   "source": [
    "chat_template = ChatPromptTemplate.from_messages([\n",
    "    ('human', \n",
    "     \"I've recently adopted a {pet} which is a {breed}. Could you suggest several training tips?\")])"
   ]
  },
  {
   "cell_type": "code",
   "execution_count": 20,
   "metadata": {},
   "outputs": [],
   "source": [
    "chain = chat_template | chat"
   ]
  },
  {
   "cell_type": "code",
   "execution_count": 21,
   "metadata": {},
   "outputs": [
    {
     "name": "stdout",
     "output_type": "stream",
     "text": [
      "CPU times: total: 31.2 ms\n",
      "Wall time: 704 ms\n"
     ]
    },
    {
     "data": {
      "text/plain": [
       "[AIMessage(content='Congratulations on your new furry family member! Shepherd dogs, such as German Shepherds, Australian Shepherders, and Border Collies, are intelligent, energetic, and often intelligent breeds that thrive on structure and purpose. With consistency, patience, and positive reinforcement, you can train your shepherd to become a well-behaved and wonderful companion. Here are some training tips to get you started:\\n\\n1. **Establish a routine**: Shepherd dogs thrive on routine, so establish a daily schedule for feeding,', additional_kwargs={}, response_metadata={'token_usage': ChatCompletionOutputUsage(completion_tokens=100, prompt_tokens=28, total_tokens=128), 'model': '', 'finish_reason': 'length'}, id='run-5809a3ed-b53d-407b-b8aa-37434c1a022a-0'),\n",
       " AIMessage(content='Congratulations on the new addition to your family! Training a Night Fury dragon can be a unique and challenging experience, but with patience, consistency, and positive reinforcement, you can develop a strong bond with your companion. Here are some training tips to get you started:\\n\\n1. **Establish trust**: Night Furys are notorious for their independence and wariness of humans. Begin by offering treats, such as raw fish or eggs, to help build trust. Move slowly, calmly, and respectfully around your dragon to', additional_kwargs={}, response_metadata={'token_usage': ChatCompletionOutputUsage(completion_tokens=100, prompt_tokens=29, total_tokens=129), 'model': '', 'finish_reason': 'length'}, id='run-ae2f69a0-523b-431e-ac86-d00d09718e30-0')]"
      ]
     },
     "execution_count": 21,
     "metadata": {},
     "output_type": "execute_result"
    }
   ],
   "source": [
    "%%time\n",
    "chain.batch([{'pet':'dog', 'breed':'shepherd'}, \n",
    "             {'pet':'dragon', 'breed':'night fury'}])"
   ]
  },
  {
   "cell_type": "code",
   "execution_count": 22,
   "metadata": {},
   "outputs": [
    {
     "name": "stdout",
     "output_type": "stream",
     "text": [
      "CPU times: total: 15.6 ms\n",
      "Wall time: 226 ms\n"
     ]
    },
    {
     "data": {
      "text/plain": [
       "AIMessage(content='Congratulations on your new furry family member! Shepherd dogs, such as German Shepherds, Australian Shepherders, and Border Collies, are intelligent, energetic, and often intelligent breeds that thrive on structure and purpose. With consistency, patience, and positive reinforcement, you can train your shepherd to become a well-behaved and wonderful companion. Here are some training tips to get you started:\\n\\n1. **Establish a routine**: Shepherd dogs thrive on routine, so establish a daily schedule for feeding,', additional_kwargs={}, response_metadata={'token_usage': ChatCompletionOutputUsage(completion_tokens=100, prompt_tokens=28, total_tokens=128), 'model': '', 'finish_reason': 'length'}, id='run-6d587dff-bd50-4931-a1ad-3c9794efefac-0')"
      ]
     },
     "execution_count": 22,
     "metadata": {},
     "output_type": "execute_result"
    }
   ],
   "source": [
    "%%time\n",
    "chain.invoke({'pet':'dog', 'breed':'shepherd'})"
   ]
  },
  {
   "cell_type": "code",
   "execution_count": 23,
   "metadata": {},
   "outputs": [
    {
     "name": "stdout",
     "output_type": "stream",
     "text": [
      "CPU times: total: 0 ns\n",
      "Wall time: 226 ms\n"
     ]
    },
    {
     "data": {
      "text/plain": [
       "AIMessage(content='Congratulations on the new addition to your family! Training a Night Fury dragon can be a unique and challenging experience, but with patience, consistency, and positive reinforcement, you can develop a strong bond with your companion. Here are some training tips to get you started:\\n\\n1. **Establish trust**: Night Furys are notorious for their independence and wariness of humans. Begin by offering treats, such as raw fish or eggs, to help build trust. Move slowly, calmly, and respectfully around your dragon to', additional_kwargs={}, response_metadata={'token_usage': ChatCompletionOutputUsage(completion_tokens=100, prompt_tokens=29, total_tokens=129), 'model': '', 'finish_reason': 'length'}, id='run-c82bd1c2-8b9a-4693-8bd8-f959432397a5-0')"
      ]
     },
     "execution_count": 23,
     "metadata": {},
     "output_type": "execute_result"
    }
   ],
   "source": [
    "%%time\n",
    "chain.invoke({'pet':'dragon', 'breed':'night fury'})"
   ]
  },
  {
   "cell_type": "markdown",
   "metadata": {},
   "source": [
    "# Stream Method"
   ]
  },
  {
   "cell_type": "code",
   "execution_count": 24,
   "metadata": {},
   "outputs": [],
   "source": [
    "response = chain.stream({'pet':'dog', 'breed':'shepherd'})"
   ]
  },
  {
   "cell_type": "code",
   "execution_count": 25,
   "metadata": {},
   "outputs": [
    {
     "data": {
      "text/plain": [
       "AIMessage(content='Congratulations on your new furry family member! Shepherd dogs, such as German Shepherds, Australian Shepherders, and Border Collies, are intelligent, energetic, and often intelligent breeds that thrive on structure and purpose. With consistency, patience, and positive reinforcement, you can train your shepherd to become a well-behaved and wonderful companion. Here are some training tips to get you started:\\n\\n1. **Establish a routine**: Shepherd dogs thrive on routine, so establish a daily schedule for feeding,', additional_kwargs={}, response_metadata={'token_usage': ChatCompletionOutputUsage(completion_tokens=100, prompt_tokens=28, total_tokens=128), 'model': '', 'finish_reason': 'length'}, id='run-7475a829-d819-4aa5-b310-6c2777a26251-0')"
      ]
     },
     "execution_count": 25,
     "metadata": {},
     "output_type": "execute_result"
    }
   ],
   "source": [
    "next(response)"
   ]
  },
  {
   "cell_type": "code",
   "execution_count": 26,
   "metadata": {},
   "outputs": [],
   "source": [
    "for i in response:\n",
    "    print(i.content)"
   ]
  }
 ],
 "metadata": {
  "kernelspec": {
   "display_name": "Python 3",
   "language": "python",
   "name": "python3"
  },
  "language_info": {
   "codemirror_mode": {
    "name": "ipython",
    "version": 3
   },
   "file_extension": ".py",
   "mimetype": "text/x-python",
   "name": "python",
   "nbconvert_exporter": "python",
   "pygments_lexer": "ipython3",
   "version": "3.12.4"
  }
 },
 "nbformat": 4,
 "nbformat_minor": 2
}
