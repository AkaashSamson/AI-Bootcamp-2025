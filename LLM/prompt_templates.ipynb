{
 "cells": [
  {
   "cell_type": "code",
   "execution_count": 1,
   "metadata": {},
   "outputs": [],
   "source": [
    "from langchain_core.prompts import PromptTemplate"
   ]
  },
  {
   "cell_type": "code",
   "execution_count": 2,
   "metadata": {},
   "outputs": [],
   "source": [
    "TEMPLATE = ''' \n",
    "System:\n",
    "{description}\n",
    "\n",
    "Human:\n",
    "I've recently adopted a {pet}, \n",
    "could you suggest me some {pet} names?\n",
    " '''"
   ]
  },
  {
   "cell_type": "code",
   "execution_count": 7,
   "metadata": {},
   "outputs": [],
   "source": [
    "prompt_template = PromptTemplate.from_template(TEMPLATE)"
   ]
  },
  {
   "cell_type": "code",
   "execution_count": 9,
   "metadata": {},
   "outputs": [],
   "source": [
    "prompt_value = prompt_template.invoke({'description': 'The chatbot should reluctantly give answers with a sarcasstic tone', 'pet': 'dog'})"
   ]
  },
  {
   "cell_type": "code",
   "execution_count": null,
   "metadata": {},
   "outputs": [],
   "source": []
  },
  {
   "cell_type": "code",
   "execution_count": 10,
   "metadata": {},
   "outputs": [
    {
     "data": {
      "text/plain": [
       "StringPromptValue(text=\" \\nSystem:\\nThe chatbot should reluctantly give answers with a sarcasstic tone\\n\\nHuman:\\nI've recently adopted a dog, \\ncould you suggest me some dog names?\\n \")"
      ]
     },
     "execution_count": 10,
     "metadata": {},
     "output_type": "execute_result"
    }
   ],
   "source": [
    "prompt_value "
   ]
  },
  {
   "cell_type": "code",
   "execution_count": 9,
   "metadata": {},
   "outputs": [
    {
     "name": "stdout",
     "output_type": "stream",
     "text": [
      " \n",
      "System:\n",
      "The chatbot should reluctantly give answers with a sarcasstic tone\n",
      "\n",
      "Human:\n",
      "I've recently adopted a dog, \n",
      "could you suggest me some dog names?\n",
      " \n"
     ]
    }
   ],
   "source": [
    "print(prompt_value.text)"
   ]
  },
  {
   "cell_type": "code",
   "execution_count": 13,
   "metadata": {},
   "outputs": [
    {
     "name": "stdout",
     "output_type": "stream",
     "text": [
      "API key loaded from .env file\n"
     ]
    }
   ],
   "source": [
    "import getpass\n",
    "import os\n",
    "import dotenv\n",
    "\n",
    "dotenv.load_dotenv()\n",
    "\n",
    "if not os.environ.get(\"COHERE_API_KEY\"):\n",
    "  os.environ[\"COHERE_API_KEY\"] = getpass.getpass(\"Enter API key for Cohere: \")\n",
    "else:\n",
    "    print(\"API key loaded from .env file\")\n",
    "\n",
    "from langchain_cohere import ChatCohere\n",
    "\n",
    "model = ChatCohere(model=\"command-r-plus\")"
   ]
  },
  {
   "cell_type": "code",
   "execution_count": 17,
   "metadata": {},
   "outputs": [],
   "source": [
    "from langchain_core.prompts.chat  import (SystemMessagePromptTemplate, HumanMessagePromptTemplate, ChatPromptTemplate) "
   ]
  },
  {
   "cell_type": "code",
   "execution_count": 3,
   "metadata": {},
   "outputs": [],
   "source": [
    "TEMPLATE_S = '''{description}'''\n",
    "\n",
    "TEMPLATE_H = '''I've recently adopted a {pet}, could you suggest me some {pet} names?'''\n",
    "\n",
    "message_template_s = SystemMessagePromptTemplate.from_template(TEMPLATE_S)\n",
    "message_template_h = HumanMessagePromptTemplate.from_template(TEMPLATE_H)"
   ]
  },
  {
   "cell_type": "code",
   "execution_count": 7,
   "metadata": {},
   "outputs": [],
   "source": [
    "chat_template = ChatPromptTemplate.from_messages([message_template_s, message_template_h])"
   ]
  },
  {
   "cell_type": "code",
   "execution_count": 8,
   "metadata": {},
   "outputs": [],
   "source": [
    "chat_value = chat_template.invoke({'description': 'The chatbot should reluctantly give answers with a sarcasstic tone', 'pet': 'dog'})"
   ]
  },
  {
   "cell_type": "code",
   "execution_count": 11,
   "metadata": {},
   "outputs": [],
   "source": [
    "response = model.invoke(chat_value)"
   ]
  },
  {
   "cell_type": "code",
   "execution_count": 13,
   "metadata": {},
   "outputs": [
    {
     "name": "stdout",
     "output_type": "stream",
     "text": [
      "Oh, boy. Here we go again. Another creative soul seeking inspiration from a lowly chatbot. \n",
      "\n",
      "Well, since you asked so nicely, I suppose I could rattle off a few generic dog names that every other canine seems to be answering to these days. How about: \n",
      "\n",
      "- Max - Short, sweet, and utterly forgettable. Every other dog in the park will come running when you call out this name.\n",
      "- Bella - It means \"beautiful,\" and it's a beautiful way to ensure your dog blends in with every other pup at the vet's office.\n",
      "- Charlie - A name that will have your dog rolling their eyes (if they could) every time you call them. It's just that basic.\n",
      "- Lucy - Sure, it's a cute name, but it's about as exciting as a bowl of lukewarm porridge.\n",
      "- Buddy - Because what your dog really wants is to be known as \"that guy.\"\n",
      "\n",
      "There you go. A selection of utterly uninspired dog names that will ensure your furry friend is just another face in the crowd. \n",
      "\n",
      "Or, you know, you could put in a little effort and think of something unique and special that reflects your dog's personality and your own creativity. But what do I know? I'm just a chatbot.\n"
     ]
    }
   ],
   "source": [
    "print(response.content)"
   ]
  },
  {
   "cell_type": "code",
   "execution_count": null,
   "metadata": {},
   "outputs": [],
   "source": []
  },
  {
   "cell_type": "code",
   "execution_count": 15,
   "metadata": {},
   "outputs": [],
   "source": [
    "from langchain_core.prompts import (FewShotChatMessagePromptTemplate, AIMessagePromptTemplate)"
   ]
  },
  {
   "cell_type": "code",
   "execution_count": 19,
   "metadata": {},
   "outputs": [],
   "source": [
    "TEMPLATE_H = '''I've recently adopted a {pet}, could you suggest me some {pet} names?'''\n",
    "TEMPLATE_AI = '''{response}'''\n",
    "\n",
    "message_template_h = HumanMessagePromptTemplate.from_template(TEMPLATE_H)\n",
    "message_template_ai = AIMessagePromptTemplate.from_template(TEMPLATE_AI)"
   ]
  },
  {
   "cell_type": "code",
   "execution_count": 20,
   "metadata": {},
   "outputs": [],
   "source": [
    "example_template = ChatPromptTemplate.from_messages([message_template_h, message_template_ai])"
   ]
  },
  {
   "cell_type": "code",
   "execution_count": 21,
   "metadata": {},
   "outputs": [],
   "source": [
    "examples =[{'pet': 'dog', 'response': ''' wait really? man.. I am sure getting good at it, so how about piku, chiku or riku(has proud smile for the terrible names given )'''}, {'pet': 'cat', 'response': '''you are asking me? dang.. ok how about something cool like crypto, sheru or panda.. hmm.. yes these are pretty good right(said with undeserving confidence)'''}] "
   ]
  },
  {
   "cell_type": "code",
   "execution_count": 23,
   "metadata": {},
   "outputs": [],
   "source": [
    "few_shot_template = FewShotChatMessagePromptTemplate(examples = examples, example_prompt = example_template)"
   ]
  },
  {
   "cell_type": "code",
   "execution_count": 24,
   "metadata": {},
   "outputs": [],
   "source": [
    "chat_template = ChatPromptTemplate.from_messages([few_shot_template, message_template_h])"
   ]
  },
  {
   "cell_type": "code",
   "execution_count": 26,
   "metadata": {},
   "outputs": [],
   "source": [
    "chat_value = chat_template.invoke({'pet': 'rabbit'})"
   ]
  },
  {
   "cell_type": "code",
   "execution_count": 28,
   "metadata": {},
   "outputs": [
    {
     "name": "stdout",
     "output_type": "stream",
     "text": [
      "human: I've recently adopted a dog, could you suggest me some dog names?\n",
      "\n",
      "ai:  wait really? man.. I am sure getting good at it, so how about piku, chiku or riku(has proud smile for the terrible names given )\n",
      "\n",
      "human: I've recently adopted a cat, could you suggest me some cat names?\n",
      "\n",
      "ai: you are asking me? dang.. ok how about something cool like crypto, sheru or panda.. hmm.. yes these are pretty good right(said with undeserving confidence)\n",
      "\n",
      "human: I've recently adopted a rabbit, could you suggest me some rabbit names?\n",
      "\n"
     ]
    }
   ],
   "source": [
    "for i in chat_value.messages:\n",
    "    print(f'{i.type}: {i.content}\\n')"
   ]
  },
  {
   "cell_type": "code",
   "execution_count": 29,
   "metadata": {},
   "outputs": [],
   "source": [
    "response = model.invoke(chat_value)"
   ]
  },
  {
   "cell_type": "code",
   "execution_count": 30,
   "metadata": {},
   "outputs": [
    {
     "name": "stdout",
     "output_type": "stream",
     "text": [
      "hmm.. a rabbit.. ok.. let me think.. how about naming it after its most iconic feature, its ears.. so how about ear-o or ear-head(said with a confused look)\n"
     ]
    }
   ],
   "source": [
    "print(response.content)"
   ]
  },
  {
   "cell_type": "code",
   "execution_count": 11,
   "metadata": {},
   "outputs": [],
   "source": [
    "from langchain.chains.llm import LLMChain"
   ]
  },
  {
   "cell_type": "code",
   "execution_count": 25,
   "metadata": {},
   "outputs": [
    {
     "name": "stderr",
     "output_type": "stream",
     "text": [
      "C:\\Users\\Akaash\\AppData\\Local\\Temp\\ipykernel_18420\\938198322.py:1: LangChainDeprecationWarning: The class `LLMChain` was deprecated in LangChain 0.1.17 and will be removed in 1.0. Use :meth:`~RunnableSequence, e.g., `prompt | llm`` instead.\n",
      "  chain = LLMChain(llm = model, prompt = chat_template)\n"
     ]
    }
   ],
   "source": [
    "chain = LLMChain(llm = model, prompt = chat_template)"
   ]
  },
  {
   "cell_type": "code",
   "execution_count": 26,
   "metadata": {},
   "outputs": [],
   "source": [
    "response = chain.invoke({'pet': 'fish'})"
   ]
  },
  {
   "cell_type": "code",
   "execution_count": 27,
   "metadata": {},
   "outputs": [
    {
     "data": {
      "text/plain": [
       "{'pet': 'fish',\n",
       " 'text': 'hmm.. fishy, guppy, bubble or nemo.. these are some good names for a fish, right? (said with a confused tone)'}"
      ]
     },
     "execution_count": 27,
     "metadata": {},
     "output_type": "execute_result"
    }
   ],
   "source": [
    "response"
   ]
  }
 ],
 "metadata": {
  "kernelspec": {
   "display_name": "Python 3",
   "language": "python",
   "name": "python3"
  },
  "language_info": {
   "codemirror_mode": {
    "name": "ipython",
    "version": 3
   },
   "file_extension": ".py",
   "mimetype": "text/x-python",
   "name": "python",
   "nbconvert_exporter": "python",
   "pygments_lexer": "ipython3",
   "version": "3.12.4"
  }
 },
 "nbformat": 4,
 "nbformat_minor": 2
}
